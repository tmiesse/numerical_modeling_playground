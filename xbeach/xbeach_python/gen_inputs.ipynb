{
 "cells": [
  {
   "cell_type": "markdown",
   "metadata": {},
   "source": [
    "# XBeach generate inputs"
   ]
  },
  {
   "cell_type": "markdown",
   "metadata": {},
   "source": [
    "#### Initialize libraries"
   ]
  },
  {
   "cell_type": "code",
   "execution_count": 1,
   "metadata": {},
   "outputs": [],
   "source": [
    "import sys;sys.path.append('../xbeach/')\n",
    "#from importlib import reload\n",
    "#from libs import *\n",
    "from scipy.io import loadmat\n",
    "#import xbeach as xb\n",
    "#import utils as ut\n",
    "#from xbeach_inputs import *\n",
    "import matplotlib.pyplot as plt\n",
    "import os\n",
    "import netCDF4 as nc4\n",
    "import numpy as np\n",
    "import pandas as pd\n",
    "import pathlib as pl\n",
    "from datetime import datetime,timedelta"
   ]
  },
  {
   "cell_type": "markdown",
   "metadata": {},
   "source": [
    "### Initialize Paths to files and to output location"
   ]
  },
  {
   "cell_type": "code",
   "execution_count": 2,
   "metadata": {},
   "outputs": [],
   "source": [
    "root = pl.Path('/Users/tmiesse/work/FHRL/dunex/modeling/xbeach/1d_frisco/run1') # \n",
    "path = pl.Path('/Users/tmiesse/work/FHRL/eeslr/modelling/xbeach/dan_study/new_grid/experimental_setups/outputs')\n",
    "xb = nc4.Dataset(path / 'event1.nc')"
   ]
  },
  {
   "cell_type": "code",
   "execution_count": 3,
   "metadata": {},
   "outputs": [],
   "source": [
    "grid = pd.read_csv(root / 'test.csv')"
   ]
  },
  {
   "cell_type": "code",
   "execution_count": 6,
   "metadata": {},
   "outputs": [],
   "source": [
    "z = grid['z'][:] # model elevation\n",
    "x = grid['cds3d'][:]"
   ]
  },
  {
   "cell_type": "code",
   "execution_count": null,
   "metadata": {},
   "outputs": [],
   "source": []
  },
  {
   "cell_type": "code",
   "execution_count": 8,
   "metadata": {},
   "outputs": [],
   "source": [
    "vege = []\n",
    "for ii in range(0,len(z[:])):\n",
    "    if z[ii]>0.31:\n",
    "        if 9.6<x[ii]<11.5:\n",
    "            vege.append(1)\n",
    "        elif 11.5<x[ii]<16.7:\n",
    "            vege.append(2)\n",
    "        elif 16.7<x[ii]:\n",
    "            vege.append(3)\n",
    "    else:\n",
    "        vege.append(0)\n",
    "np.savetxt('/Users/tmiesse/work/FHRL/dunex/modeling/xbeach/1d_frisco/run1/spartina_map.txt',np.array(vege).reshape(1,len(x)), fmt='%.6e', delimiter='   ')"
   ]
  },
  {
   "cell_type": "code",
   "execution_count": 9,
   "metadata": {},
   "outputs": [],
   "source": [
    "vege = []\n",
    "for ii in range(0,len(z[:])):\n",
    "    if z[ii]>0.48:\n",
    "        vege.append(0.28)\n",
    "    else:\n",
    "        vege.append(0.2)\n",
    "np.savetxt(root / 'bedfricfile.txt',np.array(vege).reshape(1,len(x)), fmt='%.6e', delimiter='   ')"
   ]
  },
  {
   "cell_type": "code",
   "execution_count": 13,
   "metadata": {},
   "outputs": [],
   "source": [
    "np.savetxt(root / 'x.grd',np.array(x).reshape(1,len(x)), fmt='%.6e', delimiter='   ')\n",
    "np.savetxt(root / 'bed.dep',np.array(z).reshape(1,len(x)), fmt='%.6e', delimiter='   ')"
   ]
  },
  {
   "cell_type": "code",
   "execution_count": 14,
   "metadata": {},
   "outputs": [
    {
     "data": {
      "text/plain": [
       "434"
      ]
     },
     "execution_count": 14,
     "metadata": {},
     "output_type": "execute_result"
    }
   ],
   "source": [
    "len(x)"
   ]
  },
  {
   "cell_type": "code",
   "execution_count": 5,
   "metadata": {},
   "outputs": [],
   "source": [
    "file = pd.read_csv(root / '203867_20200819_1107.csv')"
   ]
  },
  {
   "cell_type": "code",
   "execution_count": 6,
   "metadata": {},
   "outputs": [],
   "source": [
    "water = file['Depth'].values"
   ]
  },
  {
   "cell_type": "code",
   "execution_count": 7,
   "metadata": {},
   "outputs": [],
   "source": [
    "ele = -0.331461\n",
    "guess = 0.05"
   ]
  },
  {
   "cell_type": "code",
   "execution_count": 8,
   "metadata": {},
   "outputs": [],
   "source": [
    "water_nav = (water-guess)+ele"
   ]
  },
  {
   "cell_type": "code",
   "execution_count": 9,
   "metadata": {
    "collapsed": true,
    "jupyter": {
     "outputs_hidden": true
    }
   },
   "outputs": [
    {
     "ename": "KeyError",
     "evalue": "'2021-05-19 00:00'",
     "output_type": "error",
     "traceback": [
      "\u001b[0;31m---------------------------------------------------------------------------\u001b[0m",
      "\u001b[0;31mKeyError\u001b[0m                                  Traceback (most recent call last)",
      "\u001b[0;32m~/miniconda3/envs/general/lib/python3.7/site-packages/pandas/core/indexes/base.py\u001b[0m in \u001b[0;36mget_loc\u001b[0;34m(self, key, method, tolerance)\u001b[0m\n\u001b[1;32m   2645\u001b[0m             \u001b[0;32mtry\u001b[0m\u001b[0;34m:\u001b[0m\u001b[0;34m\u001b[0m\u001b[0;34m\u001b[0m\u001b[0m\n\u001b[0;32m-> 2646\u001b[0;31m                 \u001b[0;32mreturn\u001b[0m \u001b[0mself\u001b[0m\u001b[0;34m.\u001b[0m\u001b[0m_engine\u001b[0m\u001b[0;34m.\u001b[0m\u001b[0mget_loc\u001b[0m\u001b[0;34m(\u001b[0m\u001b[0mkey\u001b[0m\u001b[0;34m)\u001b[0m\u001b[0;34m\u001b[0m\u001b[0;34m\u001b[0m\u001b[0m\n\u001b[0m\u001b[1;32m   2647\u001b[0m             \u001b[0;32mexcept\u001b[0m \u001b[0mKeyError\u001b[0m\u001b[0;34m:\u001b[0m\u001b[0;34m\u001b[0m\u001b[0;34m\u001b[0m\u001b[0m\n",
      "\u001b[0;32mpandas/_libs/index.pyx\u001b[0m in \u001b[0;36mpandas._libs.index.IndexEngine.get_loc\u001b[0;34m()\u001b[0m\n",
      "\u001b[0;32mpandas/_libs/index.pyx\u001b[0m in \u001b[0;36mpandas._libs.index.IndexEngine.get_loc\u001b[0;34m()\u001b[0m\n",
      "\u001b[0;32mpandas/_libs/hashtable_class_helper.pxi\u001b[0m in \u001b[0;36mpandas._libs.hashtable.PyObjectHashTable.get_item\u001b[0;34m()\u001b[0m\n",
      "\u001b[0;32mpandas/_libs/hashtable_class_helper.pxi\u001b[0m in \u001b[0;36mpandas._libs.hashtable.PyObjectHashTable.get_item\u001b[0;34m()\u001b[0m\n",
      "\u001b[0;31mKeyError\u001b[0m: '2021-05-19 00:00'",
      "\nDuring handling of the above exception, another exception occurred:\n",
      "\u001b[0;31mKeyError\u001b[0m                                  Traceback (most recent call last)",
      "\u001b[0;32m<ipython-input-9-2737dac33524>\u001b[0m in \u001b[0;36m<module>\u001b[0;34m\u001b[0m\n\u001b[0;32m----> 1\u001b[0;31m \u001b[0mdate2\u001b[0m \u001b[0;34m=\u001b[0m \u001b[0mpd\u001b[0m\u001b[0;34m.\u001b[0m\u001b[0mdate_range\u001b[0m\u001b[0;34m(\u001b[0m\u001b[0mfile\u001b[0m\u001b[0;34m[\u001b[0m\u001b[0;34m'2021-05-19 00:00'\u001b[0m\u001b[0;34m]\u001b[0m\u001b[0;34m[\u001b[0m\u001b[0;36m0\u001b[0m\u001b[0;34m]\u001b[0m\u001b[0;34m,\u001b[0m\u001b[0mfile\u001b[0m\u001b[0;34m[\u001b[0m\u001b[0;34m'2021-05-19 00:00'\u001b[0m\u001b[0;34m]\u001b[0m\u001b[0;34m.\u001b[0m\u001b[0miloc\u001b[0m\u001b[0;34m[\u001b[0m\u001b[0;34m-\u001b[0m\u001b[0;36m1\u001b[0m\u001b[0;34m]\u001b[0m\u001b[0;34m,\u001b[0m\u001b[0mfreq\u001b[0m\u001b[0;34m=\u001b[0m\u001b[0;34m'6H'\u001b[0m\u001b[0;34m)\u001b[0m\u001b[0;34m\u001b[0m\u001b[0;34m\u001b[0m\u001b[0m\n\u001b[0m",
      "\u001b[0;32m~/miniconda3/envs/general/lib/python3.7/site-packages/pandas/core/frame.py\u001b[0m in \u001b[0;36m__getitem__\u001b[0;34m(self, key)\u001b[0m\n\u001b[1;32m   2798\u001b[0m             \u001b[0;32mif\u001b[0m \u001b[0mself\u001b[0m\u001b[0;34m.\u001b[0m\u001b[0mcolumns\u001b[0m\u001b[0;34m.\u001b[0m\u001b[0mnlevels\u001b[0m \u001b[0;34m>\u001b[0m \u001b[0;36m1\u001b[0m\u001b[0;34m:\u001b[0m\u001b[0;34m\u001b[0m\u001b[0;34m\u001b[0m\u001b[0m\n\u001b[1;32m   2799\u001b[0m                 \u001b[0;32mreturn\u001b[0m \u001b[0mself\u001b[0m\u001b[0;34m.\u001b[0m\u001b[0m_getitem_multilevel\u001b[0m\u001b[0;34m(\u001b[0m\u001b[0mkey\u001b[0m\u001b[0;34m)\u001b[0m\u001b[0;34m\u001b[0m\u001b[0;34m\u001b[0m\u001b[0m\n\u001b[0;32m-> 2800\u001b[0;31m             \u001b[0mindexer\u001b[0m \u001b[0;34m=\u001b[0m \u001b[0mself\u001b[0m\u001b[0;34m.\u001b[0m\u001b[0mcolumns\u001b[0m\u001b[0;34m.\u001b[0m\u001b[0mget_loc\u001b[0m\u001b[0;34m(\u001b[0m\u001b[0mkey\u001b[0m\u001b[0;34m)\u001b[0m\u001b[0;34m\u001b[0m\u001b[0;34m\u001b[0m\u001b[0m\n\u001b[0m\u001b[1;32m   2801\u001b[0m             \u001b[0;32mif\u001b[0m \u001b[0mis_integer\u001b[0m\u001b[0;34m(\u001b[0m\u001b[0mindexer\u001b[0m\u001b[0;34m)\u001b[0m\u001b[0;34m:\u001b[0m\u001b[0;34m\u001b[0m\u001b[0;34m\u001b[0m\u001b[0m\n\u001b[1;32m   2802\u001b[0m                 \u001b[0mindexer\u001b[0m \u001b[0;34m=\u001b[0m \u001b[0;34m[\u001b[0m\u001b[0mindexer\u001b[0m\u001b[0;34m]\u001b[0m\u001b[0;34m\u001b[0m\u001b[0;34m\u001b[0m\u001b[0m\n",
      "\u001b[0;32m~/miniconda3/envs/general/lib/python3.7/site-packages/pandas/core/indexes/base.py\u001b[0m in \u001b[0;36mget_loc\u001b[0;34m(self, key, method, tolerance)\u001b[0m\n\u001b[1;32m   2646\u001b[0m                 \u001b[0;32mreturn\u001b[0m \u001b[0mself\u001b[0m\u001b[0;34m.\u001b[0m\u001b[0m_engine\u001b[0m\u001b[0;34m.\u001b[0m\u001b[0mget_loc\u001b[0m\u001b[0;34m(\u001b[0m\u001b[0mkey\u001b[0m\u001b[0;34m)\u001b[0m\u001b[0;34m\u001b[0m\u001b[0;34m\u001b[0m\u001b[0m\n\u001b[1;32m   2647\u001b[0m             \u001b[0;32mexcept\u001b[0m \u001b[0mKeyError\u001b[0m\u001b[0;34m:\u001b[0m\u001b[0;34m\u001b[0m\u001b[0;34m\u001b[0m\u001b[0m\n\u001b[0;32m-> 2648\u001b[0;31m                 \u001b[0;32mreturn\u001b[0m \u001b[0mself\u001b[0m\u001b[0;34m.\u001b[0m\u001b[0m_engine\u001b[0m\u001b[0;34m.\u001b[0m\u001b[0mget_loc\u001b[0m\u001b[0;34m(\u001b[0m\u001b[0mself\u001b[0m\u001b[0;34m.\u001b[0m\u001b[0m_maybe_cast_indexer\u001b[0m\u001b[0;34m(\u001b[0m\u001b[0mkey\u001b[0m\u001b[0;34m)\u001b[0m\u001b[0;34m)\u001b[0m\u001b[0;34m\u001b[0m\u001b[0;34m\u001b[0m\u001b[0m\n\u001b[0m\u001b[1;32m   2649\u001b[0m         \u001b[0mindexer\u001b[0m \u001b[0;34m=\u001b[0m \u001b[0mself\u001b[0m\u001b[0;34m.\u001b[0m\u001b[0mget_indexer\u001b[0m\u001b[0;34m(\u001b[0m\u001b[0;34m[\u001b[0m\u001b[0mkey\u001b[0m\u001b[0;34m]\u001b[0m\u001b[0;34m,\u001b[0m \u001b[0mmethod\u001b[0m\u001b[0;34m=\u001b[0m\u001b[0mmethod\u001b[0m\u001b[0;34m,\u001b[0m \u001b[0mtolerance\u001b[0m\u001b[0;34m=\u001b[0m\u001b[0mtolerance\u001b[0m\u001b[0;34m)\u001b[0m\u001b[0;34m\u001b[0m\u001b[0;34m\u001b[0m\u001b[0m\n\u001b[1;32m   2650\u001b[0m         \u001b[0;32mif\u001b[0m \u001b[0mindexer\u001b[0m\u001b[0;34m.\u001b[0m\u001b[0mndim\u001b[0m \u001b[0;34m>\u001b[0m \u001b[0;36m1\u001b[0m \u001b[0;32mor\u001b[0m \u001b[0mindexer\u001b[0m\u001b[0;34m.\u001b[0m\u001b[0msize\u001b[0m \u001b[0;34m>\u001b[0m \u001b[0;36m1\u001b[0m\u001b[0;34m:\u001b[0m\u001b[0;34m\u001b[0m\u001b[0;34m\u001b[0m\u001b[0m\n",
      "\u001b[0;32mpandas/_libs/index.pyx\u001b[0m in \u001b[0;36mpandas._libs.index.IndexEngine.get_loc\u001b[0;34m()\u001b[0m\n",
      "\u001b[0;32mpandas/_libs/index.pyx\u001b[0m in \u001b[0;36mpandas._libs.index.IndexEngine.get_loc\u001b[0;34m()\u001b[0m\n",
      "\u001b[0;32mpandas/_libs/hashtable_class_helper.pxi\u001b[0m in \u001b[0;36mpandas._libs.hashtable.PyObjectHashTable.get_item\u001b[0;34m()\u001b[0m\n",
      "\u001b[0;32mpandas/_libs/hashtable_class_helper.pxi\u001b[0m in \u001b[0;36mpandas._libs.hashtable.PyObjectHashTable.get_item\u001b[0;34m()\u001b[0m\n",
      "\u001b[0;31mKeyError\u001b[0m: '2021-05-19 00:00'"
     ]
    }
   ],
   "source": [
    "date2 = pd.date_range(file['2021-05-19 00:00'][0],file['2021-05-19 00:00'].iloc[-1],freq='6H')"
   ]
  },
  {
   "cell_type": "code",
   "execution_count": 17,
   "metadata": {},
   "outputs": [],
   "source": [
    "water2 = np.interp(date2,pd.to_datetime(file['2021-05-19 00:00']),water_nav)*0.9"
   ]
  },
  {
   "cell_type": "code",
   "execution_count": 7,
   "metadata": {},
   "outputs": [],
   "source": [
    "root = pl.Path('/Users/tmiesse/work/dewberry/vb_terrace/modeling/xbeach/calib3')"
   ]
  },
  {
   "cell_type": "code",
   "execution_count": 18,
   "metadata": {},
   "outputs": [
    {
     "data": {
      "text/html": [
       "<div>\n",
       "<style scoped>\n",
       "    .dataframe tbody tr th:only-of-type {\n",
       "        vertical-align: middle;\n",
       "    }\n",
       "\n",
       "    .dataframe tbody tr th {\n",
       "        vertical-align: top;\n",
       "    }\n",
       "\n",
       "    .dataframe thead th {\n",
       "        text-align: right;\n",
       "    }\n",
       "</style>\n",
       "<table border=\"1\" class=\"dataframe\">\n",
       "  <thead>\n",
       "    <tr style=\"text-align: right;\">\n",
       "      <th></th>\n",
       "      <th>Time</th>\n",
       "      <th>Burst</th>\n",
       "      <th>Depth</th>\n",
       "      <th>Significant wave height</th>\n",
       "      <th>Significant wave period</th>\n",
       "      <th>1/10 wave height</th>\n",
       "      <th>1/10 wave period</th>\n",
       "      <th>Maximum wave height</th>\n",
       "      <th>Maximum wave period</th>\n",
       "      <th>Average wave height</th>\n",
       "      <th>Average wave period</th>\n",
       "      <th>Wave energy</th>\n",
       "      <th>Depth</th>\n",
       "    </tr>\n",
       "  </thead>\n",
       "  <tbody>\n",
       "    <tr>\n",
       "      <th>0</th>\n",
       "      <td>2020-08-02 18:00:00.000</td>\n",
       "      <td>1</td>\n",
       "      <td>0.551460</td>\n",
       "      <td>0.2013</td>\n",
       "      <td>3.7813</td>\n",
       "      <td>0.2423</td>\n",
       "      <td>4.4444</td>\n",
       "      <td>0.2757</td>\n",
       "      <td>4.50</td>\n",
       "      <td>0.1362</td>\n",
       "      <td>2.6134</td>\n",
       "      <td>30.6860</td>\n",
       "      <td>0.551463</td>\n",
       "    </tr>\n",
       "    <tr>\n",
       "      <th>1</th>\n",
       "      <td>2020-08-02 18:05:00.000</td>\n",
       "      <td>2</td>\n",
       "      <td>0.541530</td>\n",
       "      <td>0.1552</td>\n",
       "      <td>2.7756</td>\n",
       "      <td>0.1867</td>\n",
       "      <td>3.0909</td>\n",
       "      <td>0.2550</td>\n",
       "      <td>4.25</td>\n",
       "      <td>0.1077</td>\n",
       "      <td>2.1795</td>\n",
       "      <td>19.9906</td>\n",
       "      <td>0.541532</td>\n",
       "    </tr>\n",
       "    <tr>\n",
       "      <th>2</th>\n",
       "      <td>2020-08-02 18:10:00.000</td>\n",
       "      <td>3</td>\n",
       "      <td>0.537084</td>\n",
       "      <td>0.1630</td>\n",
       "      <td>3.0000</td>\n",
       "      <td>0.1935</td>\n",
       "      <td>3.1364</td>\n",
       "      <td>0.2433</td>\n",
       "      <td>3.75</td>\n",
       "      <td>0.1090</td>\n",
       "      <td>2.2522</td>\n",
       "      <td>21.8620</td>\n",
       "      <td>0.537089</td>\n",
       "    </tr>\n",
       "    <tr>\n",
       "      <th>3</th>\n",
       "      <td>2020-08-02 18:15:00.000</td>\n",
       "      <td>4</td>\n",
       "      <td>0.523505</td>\n",
       "      <td>0.1509</td>\n",
       "      <td>2.7125</td>\n",
       "      <td>0.1801</td>\n",
       "      <td>3.0625</td>\n",
       "      <td>0.2001</td>\n",
       "      <td>2.75</td>\n",
       "      <td>0.1034</td>\n",
       "      <td>2.1345</td>\n",
       "      <td>19.0089</td>\n",
       "      <td>0.523508</td>\n",
       "    </tr>\n",
       "    <tr>\n",
       "      <th>4</th>\n",
       "      <td>2020-08-02 18:20:00.000</td>\n",
       "      <td>5</td>\n",
       "      <td>0.523298</td>\n",
       "      <td>0.1412</td>\n",
       "      <td>2.4286</td>\n",
       "      <td>0.1624</td>\n",
       "      <td>2.4792</td>\n",
       "      <td>0.1818</td>\n",
       "      <td>3.25</td>\n",
       "      <td>0.0971</td>\n",
       "      <td>2.0400</td>\n",
       "      <td>16.2209</td>\n",
       "      <td>0.523296</td>\n",
       "    </tr>\n",
       "    <tr>\n",
       "      <th>...</th>\n",
       "      <td>...</td>\n",
       "      <td>...</td>\n",
       "      <td>...</td>\n",
       "      <td>...</td>\n",
       "      <td>...</td>\n",
       "      <td>...</td>\n",
       "      <td>...</td>\n",
       "      <td>...</td>\n",
       "      <td>...</td>\n",
       "      <td>...</td>\n",
       "      <td>...</td>\n",
       "      <td>...</td>\n",
       "      <td>...</td>\n",
       "    </tr>\n",
       "    <tr>\n",
       "      <th>4809</th>\n",
       "      <td>2020-08-19 10:45:00.000</td>\n",
       "      <td>4810</td>\n",
       "      <td>0.040041</td>\n",
       "      <td>0.0000</td>\n",
       "      <td>30.0357</td>\n",
       "      <td>0.4296</td>\n",
       "      <td>36.8750</td>\n",
       "      <td>0.4934</td>\n",
       "      <td>69.00</td>\n",
       "      <td>0.0937</td>\n",
       "      <td>12.7750</td>\n",
       "      <td>125.1775</td>\n",
       "      <td>0.040134</td>\n",
       "    </tr>\n",
       "    <tr>\n",
       "      <th>4810</th>\n",
       "      <td>2020-08-19 10:50:00.000</td>\n",
       "      <td>4811</td>\n",
       "      <td>0.002413</td>\n",
       "      <td>0.0000</td>\n",
       "      <td>10.5417</td>\n",
       "      <td>0.0629</td>\n",
       "      <td>13.7500</td>\n",
       "      <td>0.0886</td>\n",
       "      <td>5.50</td>\n",
       "      <td>0.0142</td>\n",
       "      <td>5.5811</td>\n",
       "      <td>1.0433</td>\n",
       "      <td>0.002407</td>\n",
       "    </tr>\n",
       "    <tr>\n",
       "      <th>4811</th>\n",
       "      <td>2020-08-19 10:55:00.000</td>\n",
       "      <td>4812</td>\n",
       "      <td>-0.004274</td>\n",
       "      <td>0.0000</td>\n",
       "      <td>0.0000</td>\n",
       "      <td>0.0000</td>\n",
       "      <td>0.0000</td>\n",
       "      <td>0.0000</td>\n",
       "      <td>0.00</td>\n",
       "      <td>0.0000</td>\n",
       "      <td>0.0000</td>\n",
       "      <td>0.0000</td>\n",
       "      <td>-0.004270</td>\n",
       "    </tr>\n",
       "    <tr>\n",
       "      <th>4812</th>\n",
       "      <td>2020-08-19 11:00:00.000</td>\n",
       "      <td>4813</td>\n",
       "      <td>-0.024863</td>\n",
       "      <td>0.0000</td>\n",
       "      <td>0.0000</td>\n",
       "      <td>0.0000</td>\n",
       "      <td>0.0000</td>\n",
       "      <td>0.0000</td>\n",
       "      <td>0.00</td>\n",
       "      <td>0.0000</td>\n",
       "      <td>0.0000</td>\n",
       "      <td>0.0000</td>\n",
       "      <td>-0.024852</td>\n",
       "    </tr>\n",
       "    <tr>\n",
       "      <th>4813</th>\n",
       "      <td>2020-08-19 11:05:00.000</td>\n",
       "      <td>4814</td>\n",
       "      <td>-0.021095</td>\n",
       "      <td>0.0000</td>\n",
       "      <td>0.0000</td>\n",
       "      <td>0.0000</td>\n",
       "      <td>0.0000</td>\n",
       "      <td>0.0000</td>\n",
       "      <td>0.00</td>\n",
       "      <td>0.0000</td>\n",
       "      <td>0.0000</td>\n",
       "      <td>0.0000</td>\n",
       "      <td>-0.021107</td>\n",
       "    </tr>\n",
       "  </tbody>\n",
       "</table>\n",
       "<p>4814 rows × 13 columns</p>\n",
       "</div>"
      ],
      "text/plain": [
       "                         Time  Burst     Depth  Significant wave height  \\\n",
       "0     2020-08-02 18:00:00.000      1  0.551460                   0.2013   \n",
       "1     2020-08-02 18:05:00.000      2  0.541530                   0.1552   \n",
       "2     2020-08-02 18:10:00.000      3  0.537084                   0.1630   \n",
       "3     2020-08-02 18:15:00.000      4  0.523505                   0.1509   \n",
       "4     2020-08-02 18:20:00.000      5  0.523298                   0.1412   \n",
       "...                       ...    ...       ...                      ...   \n",
       "4809  2020-08-19 10:45:00.000   4810  0.040041                   0.0000   \n",
       "4810  2020-08-19 10:50:00.000   4811  0.002413                   0.0000   \n",
       "4811  2020-08-19 10:55:00.000   4812 -0.004274                   0.0000   \n",
       "4812  2020-08-19 11:00:00.000   4813 -0.024863                   0.0000   \n",
       "4813  2020-08-19 11:05:00.000   4814 -0.021095                   0.0000   \n",
       "\n",
       "      Significant wave period  1/10 wave height  1/10 wave period  \\\n",
       "0                      3.7813            0.2423            4.4444   \n",
       "1                      2.7756            0.1867            3.0909   \n",
       "2                      3.0000            0.1935            3.1364   \n",
       "3                      2.7125            0.1801            3.0625   \n",
       "4                      2.4286            0.1624            2.4792   \n",
       "...                       ...               ...               ...   \n",
       "4809                  30.0357            0.4296           36.8750   \n",
       "4810                  10.5417            0.0629           13.7500   \n",
       "4811                   0.0000            0.0000            0.0000   \n",
       "4812                   0.0000            0.0000            0.0000   \n",
       "4813                   0.0000            0.0000            0.0000   \n",
       "\n",
       "      Maximum wave height  Maximum wave period  Average wave height  \\\n",
       "0                  0.2757                 4.50               0.1362   \n",
       "1                  0.2550                 4.25               0.1077   \n",
       "2                  0.2433                 3.75               0.1090   \n",
       "3                  0.2001                 2.75               0.1034   \n",
       "4                  0.1818                 3.25               0.0971   \n",
       "...                   ...                  ...                  ...   \n",
       "4809               0.4934                69.00               0.0937   \n",
       "4810               0.0886                 5.50               0.0142   \n",
       "4811               0.0000                 0.00               0.0000   \n",
       "4812               0.0000                 0.00               0.0000   \n",
       "4813               0.0000                 0.00               0.0000   \n",
       "\n",
       "      Average wave period  Wave energy    Depth   \n",
       "0                  2.6134      30.6860  0.551463  \n",
       "1                  2.1795      19.9906  0.541532  \n",
       "2                  2.2522      21.8620  0.537089  \n",
       "3                  2.1345      19.0089  0.523508  \n",
       "4                  2.0400      16.2209  0.523296  \n",
       "...                   ...          ...       ...  \n",
       "4809              12.7750     125.1775  0.040134  \n",
       "4810               5.5811       1.0433  0.002407  \n",
       "4811               0.0000       0.0000 -0.004270  \n",
       "4812               0.0000       0.0000 -0.024852  \n",
       "4813               0.0000       0.0000 -0.021107  \n",
       "\n",
       "[4814 rows x 13 columns]"
      ]
     },
     "execution_count": 18,
     "metadata": {},
     "output_type": "execute_result"
    }
   ],
   "source": [
    "file"
   ]
  },
  {
   "cell_type": "code",
   "execution_count": 10,
   "metadata": {},
   "outputs": [],
   "source": [
    "obs = pd.read_csv('https://api.tidesandcurrents.noaa.gov/api/prod/datagetter?product=water_level&application=NOS.COOPS.TAC.WL&begin_date=20200801&end_date=20200901&datum=NAVD&station=8575512&time_zone=LST&units=metric&format=csv')"
   ]
  },
  {
   "cell_type": "code",
   "execution_count": 11,
   "metadata": {},
   "outputs": [
    {
     "data": {
      "image/png": "[encoded data removed]",
      "text/plain": [
       "<Figure size 432x216 with 1 Axes>"
      ]
     },
     "metadata": {
      "needs_background": "light"
     },
     "output_type": "display_data"
    }
   ],
   "source": [
    "fig = plt.figure(figsize=(6,3))\n",
    "ax = plt.axes([0,0,1,.95])\n",
    "plt.rcParams[\"font.family\"] = \"Times New Roman\"\n",
    "\n",
    "ax.plot(pd.to_datetime(obs['Date Time']),obs[' Water Level'],'b',label='observation')\n",
    "ax.plot(pd.to_datetime(file['Time']),water_nav,'g',label='model')\n",
    "#ax.set_title('Storm 2021 Beggar Bridge',fontsize=14),ax.set_ylabel(r'Water Surface Ele [m at NAVD88]',fontsize=12)\n",
    "ax.set_ylim([-0.75,1.75])\n",
    "ax.legend(loc='lower center', bbox_to_anchor=(0.5, -0.2),ncol=2,frameon=False,fontsize=12)\n",
    "ax.grid(True)\n",
    "#plt.savefig(root /'xb_water.png',dpi=480,bbox_inches = 'tight', pad_inches = 0.1)\n",
    "plt.show()"
   ]
  },
  {
   "cell_type": "code",
   "execution_count": 5,
   "metadata": {},
   "outputs": [],
   "source": [
    "file = pd.read_csv(root / 'Spectral Analysis' /'northsite_wave_hs.csv')"
   ]
  },
  {
   "cell_type": "code",
   "execution_count": 11,
   "metadata": {},
   "outputs": [
    {
     "data": {
      "text/plain": [
       "USGS                            USGS\n",
       "0204300267                 204300267\n",
       "2021-05-19 00:00    2021-06-01 19:00\n",
       "EDT                              EDT\n",
       "-0.56                           0.49\n",
       "P                                  P\n",
       "Name: 3200, dtype: object"
      ]
     },
     "execution_count": 11,
     "metadata": {},
     "output_type": "execute_result"
    }
   ],
   "source": [
    "file.iloc[3200]"
   ]
  },
  {
   "cell_type": "code",
   "execution_count": 19,
   "metadata": {},
   "outputs": [
    {
     "data": {
      "text/plain": [
       "-0.4"
      ]
     },
     "execution_count": 19,
     "metadata": {},
     "output_type": "execute_result"
    }
   ],
   "source": [
    "water[1000]"
   ]
  },
  {
   "cell_type": "code",
   "execution_count": 13,
   "metadata": {},
   "outputs": [
    {
     "data": {
      "image/png": "[encoded data removed]",
      "text/plain": [
       "<Figure size 432x216 with 1 Axes>"
      ]
     },
     "metadata": {
      "needs_background": "light"
     },
     "output_type": "display_data"
    }
   ],
   "source": [
    "waves = file['0.0121'].values\n",
    "date2 = pd.date_range(file['5/19/21 12:10'][0],file['5/19/21 12:10'].iloc[-1],freq='6H')\n",
    "waves2 = np.interp(date2,pd.to_datetime(file['5/19/21 12:10']),waves)*0.9\n",
    "root = pl.Path('/Users/tmiesse/work/dewberry/vb_terrace/modeling/xbeach/calib3')\n",
    "\n",
    "fig = plt.figure(figsize=(6,3))\n",
    "ax = plt.axes([0,0,1,.95])\n",
    "plt.rcParams[\"font.family\"] = \"Times New Roman\"\n",
    "\n",
    "ax.plot(pd.to_datetime(file['5/19/21 12:10']),waves,'b',label='observation')\n",
    "ax.plot(date2,waves2,'g',label='model')\n",
    "ax.set_title('Storm 2021 Beggar Bridge',fontsize=14),ax.set_ylabel(r'Hs [m]',fontsize=12)\n",
    "ax.set_ylim([-0.,.5])\n",
    "ax.legend(loc='lower center', bbox_to_anchor=(0.5, -0.2),ncol=2,frameon=False,fontsize=12)\n",
    "ax.grid(True)\n",
    "plt.savefig(root /'xb_waves.png',dpi=480,bbox_inches = 'tight', pad_inches = 0.1)\n",
    "plt.show()"
   ]
  },
  {
   "cell_type": "code",
   "execution_count": null,
   "metadata": {},
   "outputs": [],
   "source": []
  },
  {
   "cell_type": "code",
   "execution_count": null,
   "metadata": {},
   "outputs": [],
   "source": []
  },
  {
   "cell_type": "code",
   "execution_count": 8,
   "metadata": {
    "collapsed": true,
    "jupyter": {
     "outputs_hidden": true
    }
   },
   "outputs": [
    {
     "ename": "KeyError",
     "evalue": "'Datetime'",
     "output_type": "error",
     "traceback": [
      "\u001b[0;31m---------------------------------------------------------------------------\u001b[0m",
      "\u001b[0;31mKeyError\u001b[0m                                  Traceback (most recent call last)",
      "\u001b[0;32m~/miniconda3/envs/general/lib/python3.7/site-packages/pandas/core/indexes/base.py\u001b[0m in \u001b[0;36mget_loc\u001b[0;34m(self, key, method, tolerance)\u001b[0m\n\u001b[1;32m   2645\u001b[0m             \u001b[0;32mtry\u001b[0m\u001b[0;34m:\u001b[0m\u001b[0;34m\u001b[0m\u001b[0;34m\u001b[0m\u001b[0m\n\u001b[0;32m-> 2646\u001b[0;31m                 \u001b[0;32mreturn\u001b[0m \u001b[0mself\u001b[0m\u001b[0;34m.\u001b[0m\u001b[0m_engine\u001b[0m\u001b[0;34m.\u001b[0m\u001b[0mget_loc\u001b[0m\u001b[0;34m(\u001b[0m\u001b[0mkey\u001b[0m\u001b[0;34m)\u001b[0m\u001b[0;34m\u001b[0m\u001b[0;34m\u001b[0m\u001b[0m\n\u001b[0m\u001b[1;32m   2647\u001b[0m             \u001b[0;32mexcept\u001b[0m \u001b[0mKeyError\u001b[0m\u001b[0;34m:\u001b[0m\u001b[0;34m\u001b[0m\u001b[0;34m\u001b[0m\u001b[0m\n",
      "\u001b[0;32mpandas/_libs/index.pyx\u001b[0m in \u001b[0;36mpandas._libs.index.IndexEngine.get_loc\u001b[0;34m()\u001b[0m\n",
      "\u001b[0;32mpandas/_libs/index.pyx\u001b[0m in \u001b[0;36mpandas._libs.index.IndexEngine.get_loc\u001b[0;34m()\u001b[0m\n",
      "\u001b[0;32mpandas/_libs/hashtable_class_helper.pxi\u001b[0m in \u001b[0;36mpandas._libs.hashtable.PyObjectHashTable.get_item\u001b[0;34m()\u001b[0m\n",
      "\u001b[0;32mpandas/_libs/hashtable_class_helper.pxi\u001b[0m in \u001b[0;36mpandas._libs.hashtable.PyObjectHashTable.get_item\u001b[0;34m()\u001b[0m\n",
      "\u001b[0;31mKeyError\u001b[0m: 'Datetime'",
      "\nDuring handling of the above exception, another exception occurred:\n",
      "\u001b[0;31mKeyError\u001b[0m                                  Traceback (most recent call last)",
      "\u001b[0;32m<ipython-input-8-37775ae52dac>\u001b[0m in \u001b[0;36m<module>\u001b[0;34m\u001b[0m\n\u001b[0;32m----> 1\u001b[0;31m \u001b[0mnp\u001b[0m\u001b[0;34m.\u001b[0m\u001b[0mwhere\u001b[0m\u001b[0;34m(\u001b[0m\u001b[0;34m(\u001b[0m\u001b[0mpd\u001b[0m\u001b[0;34m.\u001b[0m\u001b[0mto_datetime\u001b[0m\u001b[0;34m(\u001b[0m\u001b[0mfile\u001b[0m\u001b[0;34m[\u001b[0m\u001b[0;34m'Datetime'\u001b[0m\u001b[0;34m]\u001b[0m\u001b[0;34m)\u001b[0m\u001b[0;34m>\u001b[0m\u001b[0mpd\u001b[0m\u001b[0;34m.\u001b[0m\u001b[0mto_datetime\u001b[0m\u001b[0;34m(\u001b[0m\u001b[0;34m'2020-10-01 00:00:00'\u001b[0m\u001b[0;34m)\u001b[0m\u001b[0;34m)\u001b[0m\u001b[0;34m&\u001b[0m\u001b[0;34m(\u001b[0m\u001b[0mpd\u001b[0m\u001b[0;34m.\u001b[0m\u001b[0mto_datetime\u001b[0m\u001b[0;34m(\u001b[0m\u001b[0mfile\u001b[0m\u001b[0;34m[\u001b[0m\u001b[0;34m'Datetime'\u001b[0m\u001b[0;34m]\u001b[0m\u001b[0;34m)\u001b[0m\u001b[0;34m<=\u001b[0m\u001b[0mpd\u001b[0m\u001b[0;34m.\u001b[0m\u001b[0mto_datetime\u001b[0m\u001b[0;34m(\u001b[0m\u001b[0;34m'2020-10-01 01:00:00'\u001b[0m\u001b[0;34m)\u001b[0m\u001b[0;34m)\u001b[0m\u001b[0;34m)\u001b[0m\u001b[0;34m\u001b[0m\u001b[0;34m\u001b[0m\u001b[0m\n\u001b[0m",
      "\u001b[0;32m~/miniconda3/envs/general/lib/python3.7/site-packages/pandas/core/frame.py\u001b[0m in \u001b[0;36m__getitem__\u001b[0;34m(self, key)\u001b[0m\n\u001b[1;32m   2798\u001b[0m             \u001b[0;32mif\u001b[0m \u001b[0mself\u001b[0m\u001b[0;34m.\u001b[0m\u001b[0mcolumns\u001b[0m\u001b[0;34m.\u001b[0m\u001b[0mnlevels\u001b[0m \u001b[0;34m>\u001b[0m \u001b[0;36m1\u001b[0m\u001b[0;34m:\u001b[0m\u001b[0;34m\u001b[0m\u001b[0;34m\u001b[0m\u001b[0m\n\u001b[1;32m   2799\u001b[0m                 \u001b[0;32mreturn\u001b[0m \u001b[0mself\u001b[0m\u001b[0;34m.\u001b[0m\u001b[0m_getitem_multilevel\u001b[0m\u001b[0;34m(\u001b[0m\u001b[0mkey\u001b[0m\u001b[0;34m)\u001b[0m\u001b[0;34m\u001b[0m\u001b[0;34m\u001b[0m\u001b[0m\n\u001b[0;32m-> 2800\u001b[0;31m             \u001b[0mindexer\u001b[0m \u001b[0;34m=\u001b[0m \u001b[0mself\u001b[0m\u001b[0;34m.\u001b[0m\u001b[0mcolumns\u001b[0m\u001b[0;34m.\u001b[0m\u001b[0mget_loc\u001b[0m\u001b[0;34m(\u001b[0m\u001b[0mkey\u001b[0m\u001b[0;34m)\u001b[0m\u001b[0;34m\u001b[0m\u001b[0;34m\u001b[0m\u001b[0m\n\u001b[0m\u001b[1;32m   2801\u001b[0m             \u001b[0;32mif\u001b[0m \u001b[0mis_integer\u001b[0m\u001b[0;34m(\u001b[0m\u001b[0mindexer\u001b[0m\u001b[0;34m)\u001b[0m\u001b[0;34m:\u001b[0m\u001b[0;34m\u001b[0m\u001b[0;34m\u001b[0m\u001b[0m\n\u001b[1;32m   2802\u001b[0m                 \u001b[0mindexer\u001b[0m \u001b[0;34m=\u001b[0m \u001b[0;34m[\u001b[0m\u001b[0mindexer\u001b[0m\u001b[0;34m]\u001b[0m\u001b[0;34m\u001b[0m\u001b[0;34m\u001b[0m\u001b[0m\n",
      "\u001b[0;32m~/miniconda3/envs/general/lib/python3.7/site-packages/pandas/core/indexes/base.py\u001b[0m in \u001b[0;36mget_loc\u001b[0;34m(self, key, method, tolerance)\u001b[0m\n\u001b[1;32m   2646\u001b[0m                 \u001b[0;32mreturn\u001b[0m \u001b[0mself\u001b[0m\u001b[0;34m.\u001b[0m\u001b[0m_engine\u001b[0m\u001b[0;34m.\u001b[0m\u001b[0mget_loc\u001b[0m\u001b[0;34m(\u001b[0m\u001b[0mkey\u001b[0m\u001b[0;34m)\u001b[0m\u001b[0;34m\u001b[0m\u001b[0;34m\u001b[0m\u001b[0m\n\u001b[1;32m   2647\u001b[0m             \u001b[0;32mexcept\u001b[0m \u001b[0mKeyError\u001b[0m\u001b[0;34m:\u001b[0m\u001b[0;34m\u001b[0m\u001b[0;34m\u001b[0m\u001b[0m\n\u001b[0;32m-> 2648\u001b[0;31m                 \u001b[0;32mreturn\u001b[0m \u001b[0mself\u001b[0m\u001b[0;34m.\u001b[0m\u001b[0m_engine\u001b[0m\u001b[0;34m.\u001b[0m\u001b[0mget_loc\u001b[0m\u001b[0;34m(\u001b[0m\u001b[0mself\u001b[0m\u001b[0;34m.\u001b[0m\u001b[0m_maybe_cast_indexer\u001b[0m\u001b[0;34m(\u001b[0m\u001b[0mkey\u001b[0m\u001b[0;34m)\u001b[0m\u001b[0;34m)\u001b[0m\u001b[0;34m\u001b[0m\u001b[0;34m\u001b[0m\u001b[0m\n\u001b[0m\u001b[1;32m   2649\u001b[0m         \u001b[0mindexer\u001b[0m \u001b[0;34m=\u001b[0m \u001b[0mself\u001b[0m\u001b[0;34m.\u001b[0m\u001b[0mget_indexer\u001b[0m\u001b[0;34m(\u001b[0m\u001b[0;34m[\u001b[0m\u001b[0mkey\u001b[0m\u001b[0;34m]\u001b[0m\u001b[0;34m,\u001b[0m \u001b[0mmethod\u001b[0m\u001b[0;34m=\u001b[0m\u001b[0mmethod\u001b[0m\u001b[0;34m,\u001b[0m \u001b[0mtolerance\u001b[0m\u001b[0;34m=\u001b[0m\u001b[0mtolerance\u001b[0m\u001b[0;34m)\u001b[0m\u001b[0;34m\u001b[0m\u001b[0;34m\u001b[0m\u001b[0m\n\u001b[1;32m   2650\u001b[0m         \u001b[0;32mif\u001b[0m \u001b[0mindexer\u001b[0m\u001b[0;34m.\u001b[0m\u001b[0mndim\u001b[0m \u001b[0;34m>\u001b[0m \u001b[0;36m1\u001b[0m \u001b[0;32mor\u001b[0m \u001b[0mindexer\u001b[0m\u001b[0;34m.\u001b[0m\u001b[0msize\u001b[0m \u001b[0;34m>\u001b[0m \u001b[0;36m1\u001b[0m\u001b[0;34m:\u001b[0m\u001b[0;34m\u001b[0m\u001b[0;34m\u001b[0m\u001b[0m\n",
      "\u001b[0;32mpandas/_libs/index.pyx\u001b[0m in \u001b[0;36mpandas._libs.index.IndexEngine.get_loc\u001b[0;34m()\u001b[0m\n",
      "\u001b[0;32mpandas/_libs/index.pyx\u001b[0m in \u001b[0;36mpandas._libs.index.IndexEngine.get_loc\u001b[0;34m()\u001b[0m\n",
      "\u001b[0;32mpandas/_libs/hashtable_class_helper.pxi\u001b[0m in \u001b[0;36mpandas._libs.hashtable.PyObjectHashTable.get_item\u001b[0;34m()\u001b[0m\n",
      "\u001b[0;32mpandas/_libs/hashtable_class_helper.pxi\u001b[0m in \u001b[0;36mpandas._libs.hashtable.PyObjectHashTable.get_item\u001b[0;34m()\u001b[0m\n",
      "\u001b[0;31mKeyError\u001b[0m: 'Datetime'"
     ]
    }
   ],
   "source": [
    "np.where((pd.to_datetime(file['Datetime'])>pd.to_datetime('2020-10-01 00:00:00'))&(pd.to_datetime(file['Datetime'])<=pd.to_datetime('2020-10-01 01:00:00')))"
   ]
  },
  {
   "cell_type": "code",
   "execution_count": 25,
   "metadata": {},
   "outputs": [],
   "source": [
    "file2 = pd.read_csv('/Users/tmiesse/work/dewberry/vb_terrace/data_temp/ODU2nd_measurements/Waves/data/Sen_North_hrFilt.txt',sep=',')"
   ]
  },
  {
   "cell_type": "code",
   "execution_count": 26,
   "metadata": {
    "collapsed": true,
    "jupyter": {
     "outputs_hidden": true
    }
   },
   "outputs": [
    {
     "data": {
      "text/html": [
       "<div>\n",
       "<style scoped>\n",
       "    .dataframe tbody tr th:only-of-type {\n",
       "        vertical-align: middle;\n",
       "    }\n",
       "\n",
       "    .dataframe tbody tr th {\n",
       "        vertical-align: top;\n",
       "    }\n",
       "\n",
       "    .dataframe thead th {\n",
       "        text-align: right;\n",
       "    }\n",
       "</style>\n",
       "<table border=\"1\" class=\"dataframe\">\n",
       "  <thead>\n",
       "    <tr style=\"text-align: right;\">\n",
       "      <th></th>\n",
       "      <th>2021</th>\n",
       "      <th>5</th>\n",
       "      <th>19</th>\n",
       "      <th>12</th>\n",
       "      <th>0</th>\n",
       "      <th>0.1</th>\n",
       "      <th>-0.0193924426040975</th>\n",
       "    </tr>\n",
       "  </thead>\n",
       "  <tbody>\n",
       "    <tr>\n",
       "      <th>0</th>\n",
       "      <td>2021</td>\n",
       "      <td>5</td>\n",
       "      <td>19</td>\n",
       "      <td>13</td>\n",
       "      <td>0</td>\n",
       "      <td>0</td>\n",
       "      <td>1.618038</td>\n",
       "    </tr>\n",
       "    <tr>\n",
       "      <th>1</th>\n",
       "      <td>2021</td>\n",
       "      <td>5</td>\n",
       "      <td>19</td>\n",
       "      <td>14</td>\n",
       "      <td>0</td>\n",
       "      <td>0</td>\n",
       "      <td>1.535119</td>\n",
       "    </tr>\n",
       "    <tr>\n",
       "      <th>2</th>\n",
       "      <td>2021</td>\n",
       "      <td>5</td>\n",
       "      <td>19</td>\n",
       "      <td>15</td>\n",
       "      <td>0</td>\n",
       "      <td>0</td>\n",
       "      <td>1.539541</td>\n",
       "    </tr>\n",
       "    <tr>\n",
       "      <th>3</th>\n",
       "      <td>2021</td>\n",
       "      <td>5</td>\n",
       "      <td>19</td>\n",
       "      <td>16</td>\n",
       "      <td>0</td>\n",
       "      <td>0</td>\n",
       "      <td>1.542767</td>\n",
       "    </tr>\n",
       "    <tr>\n",
       "      <th>4</th>\n",
       "      <td>2021</td>\n",
       "      <td>5</td>\n",
       "      <td>19</td>\n",
       "      <td>17</td>\n",
       "      <td>0</td>\n",
       "      <td>0</td>\n",
       "      <td>1.541500</td>\n",
       "    </tr>\n",
       "    <tr>\n",
       "      <th>...</th>\n",
       "      <td>...</td>\n",
       "      <td>...</td>\n",
       "      <td>...</td>\n",
       "      <td>...</td>\n",
       "      <td>...</td>\n",
       "      <td>...</td>\n",
       "      <td>...</td>\n",
       "    </tr>\n",
       "    <tr>\n",
       "      <th>475</th>\n",
       "      <td>2021</td>\n",
       "      <td>6</td>\n",
       "      <td>8</td>\n",
       "      <td>8</td>\n",
       "      <td>0</td>\n",
       "      <td>0</td>\n",
       "      <td>1.691537</td>\n",
       "    </tr>\n",
       "    <tr>\n",
       "      <th>476</th>\n",
       "      <td>2021</td>\n",
       "      <td>6</td>\n",
       "      <td>8</td>\n",
       "      <td>9</td>\n",
       "      <td>0</td>\n",
       "      <td>0</td>\n",
       "      <td>1.692340</td>\n",
       "    </tr>\n",
       "    <tr>\n",
       "      <th>477</th>\n",
       "      <td>2021</td>\n",
       "      <td>6</td>\n",
       "      <td>8</td>\n",
       "      <td>10</td>\n",
       "      <td>0</td>\n",
       "      <td>0</td>\n",
       "      <td>1.693111</td>\n",
       "    </tr>\n",
       "    <tr>\n",
       "      <th>478</th>\n",
       "      <td>2021</td>\n",
       "      <td>6</td>\n",
       "      <td>8</td>\n",
       "      <td>11</td>\n",
       "      <td>0</td>\n",
       "      <td>0</td>\n",
       "      <td>1.687426</td>\n",
       "    </tr>\n",
       "    <tr>\n",
       "      <th>479</th>\n",
       "      <td>2021</td>\n",
       "      <td>6</td>\n",
       "      <td>8</td>\n",
       "      <td>12</td>\n",
       "      <td>0</td>\n",
       "      <td>0</td>\n",
       "      <td>1.677181</td>\n",
       "    </tr>\n",
       "  </tbody>\n",
       "</table>\n",
       "<p>480 rows × 7 columns</p>\n",
       "</div>"
      ],
      "text/plain": [
       "     2021  5  19  12  0  0.1  -0.0193924426040975\n",
       "0    2021  5  19  13  0    0             1.618038\n",
       "1    2021  5  19  14  0    0             1.535119\n",
       "2    2021  5  19  15  0    0             1.539541\n",
       "3    2021  5  19  16  0    0             1.542767\n",
       "4    2021  5  19  17  0    0             1.541500\n",
       "..    ... ..  ..  .. ..  ...                  ...\n",
       "475  2021  6   8   8  0    0             1.691537\n",
       "476  2021  6   8   9  0    0             1.692340\n",
       "477  2021  6   8  10  0    0             1.693111\n",
       "478  2021  6   8  11  0    0             1.687426\n",
       "479  2021  6   8  12  0    0             1.677181\n",
       "\n",
       "[480 rows x 7 columns]"
      ]
     },
     "execution_count": 26,
     "metadata": {},
     "output_type": "execute_result"
    }
   ],
   "source": [
    "file2"
   ]
  },
  {
   "cell_type": "markdown",
   "metadata": {},
   "source": [
    "#### Initialize Forcing time parameters"
   ]
  },
  {
   "cell_type": "code",
   "execution_count": 30,
   "metadata": {},
   "outputs": [],
   "source": [
    "def find_node_ak(fmax,obs_lat,obs_lon):\n",
    "    min_distance = None\n",
    "    best_index = 0\n",
    "    x = fmax.variables['x'][:]\n",
    "    y = fmax.variables['y'][:]\n",
    "    for i in range(len(x)):\n",
    "        current_distance = (float(y[i]) - obs_lat)**2 + (float(x[i]) - obs_lon)**2\n",
    "        if min_distance is None or current_distance < min_distance:\n",
    "            best_index = i\n",
    "            min_distance = current_distance\n",
    "    #print(\"best_index:{} \".format(best_index))\n",
    "    return best_index"
   ]
  },
  {
   "cell_type": "code",
   "execution_count": 8,
   "metadata": {},
   "outputs": [],
   "source": [
    "def write_tide(root_dir,time,front,back):\n",
    "    root_dir = pl.Path(root_dir)\n",
    "    file = root_dir / 'tide.txt'\n",
    "    data = []\n",
    "    for i in range(0,len(time)):\n",
    "        '''\n",
    "        if float(front[i])/float(front[i]) != 1:\n",
    "            if float(front[i-1])/float(front[i-1]) != 1:\n",
    "                front[i] = 0.5\n",
    "            else:\n",
    "                front[i] = front[i-1]\n",
    "        if float(back[i])/float(back[i]) != 1:\n",
    "            if float(back[i-1])/float(back[i-1]) != 1:\n",
    "                back[i] = 0.5\n",
    "            else:\n",
    "                back[i] = back[i-1]\t\t\t\t\n",
    "         #   front[i] = 0\n",
    "         #  back[i] = 0\n",
    "         '''\n",
    "        data.append('    {:.4e}    {:.4e}    {:.4e}'.format(float(time[i]),float(front[i]),float(back[i])) + '\\n')\n",
    "        #data.append('    {:.4e}    {:.4e}    {:.4e}'.format(float(time[i]),float(front[i]),float(back[i])*1.5) + '\\n')\n",
    "    with open(file,'w') as fin:\n",
    "        fin.writelines(data)\n",
    "    return"
   ]
  },
  {
   "cell_type": "code",
   "execution_count": 5,
   "metadata": {},
   "outputs": [],
   "source": [
    "start = '20170910 00:00:00'\n",
    "freq = '30min'\n",
    "nc_file = nc4.Dataset(root / 'implicit015'/ 'swan_HS.63.nc')\n",
    "node = find_node_ak(nc_file,37.150951, -75.934593) # find the point closest to the coordinates specified\n",
    "time = pd.DataFrame()\n",
    "time['time'] = pd.date_range(start=start,periods=int(len(nc_file.variables['swan_HS'][:,node])),freq=freq)"
   ]
  },
  {
   "cell_type": "code",
   "execution_count": null,
   "metadata": {},
   "outputs": [],
   "source": []
  },
  {
   "cell_type": "code",
   "execution_count": null,
   "metadata": {},
   "outputs": [],
   "source": []
  },
  {
   "cell_type": "code",
   "execution_count": 6,
   "metadata": {},
   "outputs": [],
   "source": [
    "start1,end1 ='2017-09-16 04:00:00','2017-09-22 00:00:00' #find the pts between the specified start and end times"
   ]
  },
  {
   "cell_type": "code",
   "execution_count": 7,
   "metadata": {},
   "outputs": [],
   "source": [
    "model1 = time.loc[(start1<=time['time'])&(time['time']<end1)].index.values"
   ]
  },
  {
   "cell_type": "markdown",
   "metadata": {},
   "source": [
    "#### Read and Generate water level forcing for xbeach"
   ]
  },
  {
   "cell_type": "code",
   "execution_count": 8,
   "metadata": {},
   "outputs": [],
   "source": [
    "h0 = nc4.Dataset(root / 'implicit0045' / 'swan_HS.63.nc','r').variables['swan_HS'][model1[0]:model1[-1],node]\n",
    "tp = nc4.Dataset(root / 'explicit_cd1' /'swan_TPS.63.nc','r').variables['swan_TPS'][model1[0]:model1[-1],node]\n",
    "main = nc4.Dataset(root / 'explicit_cd1' / 'swan_DIR.63.nc','r').variables['swan_DIR'][model1[0]:model1[-1],node]\n",
    "waterlevel = nc4.Dataset(root / 'implicit0045' /'fort.63.nc').variables['zeta'][model1[0]:model1[-1],node]\n",
    "dt = np.arange(1800,len(h0)*1800,1800)"
   ]
  },
  {
   "cell_type": "code",
   "execution_count": 9,
   "metadata": {},
   "outputs": [],
   "source": [
    "dt = np.arange(300,len(water_nav[4000:])*300,300)"
   ]
  },
  {
   "cell_type": "code",
   "execution_count": 10,
   "metadata": {},
   "outputs": [],
   "source": [
    "outpath = path#pl.Path('/Users/tmiesse/work/FHRL/eeslr/modelling/xbeach/dan_study/inputs_v2')"
   ]
  },
  {
   "cell_type": "code",
   "execution_count": 35,
   "metadata": {},
   "outputs": [],
   "source": [
    "numbers = np.where(water_nav == np.isnan(water_nav))[0]\n",
    "for num in numbers:\n",
    "    water_nav[num] = 0"
   ]
  },
  {
   "cell_type": "code",
   "execution_count": 22,
   "metadata": {},
   "outputs": [],
   "source": [
    "write_tide(outpath,dt,water_nav[4000:],water_nav[4000:])"
   ]
  },
  {
   "cell_type": "code",
   "execution_count": 23,
   "metadata": {},
   "outputs": [
    {
     "data": {
      "text/html": [
       "<div>\n",
       "<style scoped>\n",
       "    .dataframe tbody tr th:only-of-type {\n",
       "        vertical-align: middle;\n",
       "    }\n",
       "\n",
       "    .dataframe tbody tr th {\n",
       "        vertical-align: top;\n",
       "    }\n",
       "\n",
       "    .dataframe thead th {\n",
       "        text-align: right;\n",
       "    }\n",
       "</style>\n",
       "<table border=\"1\" class=\"dataframe\">\n",
       "  <thead>\n",
       "    <tr style=\"text-align: right;\">\n",
       "      <th></th>\n",
       "      <th>Time</th>\n",
       "      <th>Burst</th>\n",
       "      <th>Depth</th>\n",
       "      <th>Significant wave height</th>\n",
       "      <th>Significant wave period</th>\n",
       "      <th>1/10 wave height</th>\n",
       "      <th>1/10 wave period</th>\n",
       "      <th>Maximum wave height</th>\n",
       "      <th>Maximum wave period</th>\n",
       "      <th>Average wave height</th>\n",
       "      <th>Average wave period</th>\n",
       "      <th>Wave energy</th>\n",
       "      <th>Depth</th>\n",
       "    </tr>\n",
       "  </thead>\n",
       "  <tbody>\n",
       "    <tr>\n",
       "      <th>0</th>\n",
       "      <td>2020-08-02 18:00:00.000</td>\n",
       "      <td>1</td>\n",
       "      <td>0.551460</td>\n",
       "      <td>0.2013</td>\n",
       "      <td>3.7813</td>\n",
       "      <td>0.2423</td>\n",
       "      <td>4.4444</td>\n",
       "      <td>0.2757</td>\n",
       "      <td>4.50</td>\n",
       "      <td>0.1362</td>\n",
       "      <td>2.6134</td>\n",
       "      <td>30.6860</td>\n",
       "      <td>0.551463</td>\n",
       "    </tr>\n",
       "    <tr>\n",
       "      <th>1</th>\n",
       "      <td>2020-08-02 18:05:00.000</td>\n",
       "      <td>2</td>\n",
       "      <td>0.541530</td>\n",
       "      <td>0.1552</td>\n",
       "      <td>2.7756</td>\n",
       "      <td>0.1867</td>\n",
       "      <td>3.0909</td>\n",
       "      <td>0.2550</td>\n",
       "      <td>4.25</td>\n",
       "      <td>0.1077</td>\n",
       "      <td>2.1795</td>\n",
       "      <td>19.9906</td>\n",
       "      <td>0.541532</td>\n",
       "    </tr>\n",
       "    <tr>\n",
       "      <th>2</th>\n",
       "      <td>2020-08-02 18:10:00.000</td>\n",
       "      <td>3</td>\n",
       "      <td>0.537084</td>\n",
       "      <td>0.1630</td>\n",
       "      <td>3.0000</td>\n",
       "      <td>0.1935</td>\n",
       "      <td>3.1364</td>\n",
       "      <td>0.2433</td>\n",
       "      <td>3.75</td>\n",
       "      <td>0.1090</td>\n",
       "      <td>2.2522</td>\n",
       "      <td>21.8620</td>\n",
       "      <td>0.537089</td>\n",
       "    </tr>\n",
       "    <tr>\n",
       "      <th>3</th>\n",
       "      <td>2020-08-02 18:15:00.000</td>\n",
       "      <td>4</td>\n",
       "      <td>0.523505</td>\n",
       "      <td>0.1509</td>\n",
       "      <td>2.7125</td>\n",
       "      <td>0.1801</td>\n",
       "      <td>3.0625</td>\n",
       "      <td>0.2001</td>\n",
       "      <td>2.75</td>\n",
       "      <td>0.1034</td>\n",
       "      <td>2.1345</td>\n",
       "      <td>19.0089</td>\n",
       "      <td>0.523508</td>\n",
       "    </tr>\n",
       "    <tr>\n",
       "      <th>4</th>\n",
       "      <td>2020-08-02 18:20:00.000</td>\n",
       "      <td>5</td>\n",
       "      <td>0.523298</td>\n",
       "      <td>0.1412</td>\n",
       "      <td>2.4286</td>\n",
       "      <td>0.1624</td>\n",
       "      <td>2.4792</td>\n",
       "      <td>0.1818</td>\n",
       "      <td>3.25</td>\n",
       "      <td>0.0971</td>\n",
       "      <td>2.0400</td>\n",
       "      <td>16.2209</td>\n",
       "      <td>0.523296</td>\n",
       "    </tr>\n",
       "    <tr>\n",
       "      <th>...</th>\n",
       "      <td>...</td>\n",
       "      <td>...</td>\n",
       "      <td>...</td>\n",
       "      <td>...</td>\n",
       "      <td>...</td>\n",
       "      <td>...</td>\n",
       "      <td>...</td>\n",
       "      <td>...</td>\n",
       "      <td>...</td>\n",
       "      <td>...</td>\n",
       "      <td>...</td>\n",
       "      <td>...</td>\n",
       "      <td>...</td>\n",
       "    </tr>\n",
       "    <tr>\n",
       "      <th>4809</th>\n",
       "      <td>2020-08-19 10:45:00.000</td>\n",
       "      <td>4810</td>\n",
       "      <td>0.040041</td>\n",
       "      <td>0.0000</td>\n",
       "      <td>30.0357</td>\n",
       "      <td>0.4296</td>\n",
       "      <td>36.8750</td>\n",
       "      <td>0.4934</td>\n",
       "      <td>69.00</td>\n",
       "      <td>0.0937</td>\n",
       "      <td>12.7750</td>\n",
       "      <td>125.1775</td>\n",
       "      <td>0.040134</td>\n",
       "    </tr>\n",
       "    <tr>\n",
       "      <th>4810</th>\n",
       "      <td>2020-08-19 10:50:00.000</td>\n",
       "      <td>4811</td>\n",
       "      <td>0.002413</td>\n",
       "      <td>0.0000</td>\n",
       "      <td>10.5417</td>\n",
       "      <td>0.0629</td>\n",
       "      <td>13.7500</td>\n",
       "      <td>0.0886</td>\n",
       "      <td>5.50</td>\n",
       "      <td>0.0142</td>\n",
       "      <td>5.5811</td>\n",
       "      <td>1.0433</td>\n",
       "      <td>0.002407</td>\n",
       "    </tr>\n",
       "    <tr>\n",
       "      <th>4811</th>\n",
       "      <td>2020-08-19 10:55:00.000</td>\n",
       "      <td>4812</td>\n",
       "      <td>-0.004274</td>\n",
       "      <td>0.0000</td>\n",
       "      <td>0.0000</td>\n",
       "      <td>0.0000</td>\n",
       "      <td>0.0000</td>\n",
       "      <td>0.0000</td>\n",
       "      <td>0.00</td>\n",
       "      <td>0.0000</td>\n",
       "      <td>0.0000</td>\n",
       "      <td>0.0000</td>\n",
       "      <td>-0.004270</td>\n",
       "    </tr>\n",
       "    <tr>\n",
       "      <th>4812</th>\n",
       "      <td>2020-08-19 11:00:00.000</td>\n",
       "      <td>4813</td>\n",
       "      <td>-0.024863</td>\n",
       "      <td>0.0000</td>\n",
       "      <td>0.0000</td>\n",
       "      <td>0.0000</td>\n",
       "      <td>0.0000</td>\n",
       "      <td>0.0000</td>\n",
       "      <td>0.00</td>\n",
       "      <td>0.0000</td>\n",
       "      <td>0.0000</td>\n",
       "      <td>0.0000</td>\n",
       "      <td>-0.024852</td>\n",
       "    </tr>\n",
       "    <tr>\n",
       "      <th>4813</th>\n",
       "      <td>2020-08-19 11:05:00.000</td>\n",
       "      <td>4814</td>\n",
       "      <td>-0.021095</td>\n",
       "      <td>0.0000</td>\n",
       "      <td>0.0000</td>\n",
       "      <td>0.0000</td>\n",
       "      <td>0.0000</td>\n",
       "      <td>0.0000</td>\n",
       "      <td>0.00</td>\n",
       "      <td>0.0000</td>\n",
       "      <td>0.0000</td>\n",
       "      <td>0.0000</td>\n",
       "      <td>-0.021107</td>\n",
       "    </tr>\n",
       "  </tbody>\n",
       "</table>\n",
       "<p>4814 rows × 13 columns</p>\n",
       "</div>"
      ],
      "text/plain": [
       "                         Time  Burst     Depth  Significant wave height  \\\n",
       "0     2020-08-02 18:00:00.000      1  0.551460                   0.2013   \n",
       "1     2020-08-02 18:05:00.000      2  0.541530                   0.1552   \n",
       "2     2020-08-02 18:10:00.000      3  0.537084                   0.1630   \n",
       "3     2020-08-02 18:15:00.000      4  0.523505                   0.1509   \n",
       "4     2020-08-02 18:20:00.000      5  0.523298                   0.1412   \n",
       "...                       ...    ...       ...                      ...   \n",
       "4809  2020-08-19 10:45:00.000   4810  0.040041                   0.0000   \n",
       "4810  2020-08-19 10:50:00.000   4811  0.002413                   0.0000   \n",
       "4811  2020-08-19 10:55:00.000   4812 -0.004274                   0.0000   \n",
       "4812  2020-08-19 11:00:00.000   4813 -0.024863                   0.0000   \n",
       "4813  2020-08-19 11:05:00.000   4814 -0.021095                   0.0000   \n",
       "\n",
       "      Significant wave period  1/10 wave height  1/10 wave period  \\\n",
       "0                      3.7813            0.2423            4.4444   \n",
       "1                      2.7756            0.1867            3.0909   \n",
       "2                      3.0000            0.1935            3.1364   \n",
       "3                      2.7125            0.1801            3.0625   \n",
       "4                      2.4286            0.1624            2.4792   \n",
       "...                       ...               ...               ...   \n",
       "4809                  30.0357            0.4296           36.8750   \n",
       "4810                  10.5417            0.0629           13.7500   \n",
       "4811                   0.0000            0.0000            0.0000   \n",
       "4812                   0.0000            0.0000            0.0000   \n",
       "4813                   0.0000            0.0000            0.0000   \n",
       "\n",
       "      Maximum wave height  Maximum wave period  Average wave height  \\\n",
       "0                  0.2757                 4.50               0.1362   \n",
       "1                  0.2550                 4.25               0.1077   \n",
       "2                  0.2433                 3.75               0.1090   \n",
       "3                  0.2001                 2.75               0.1034   \n",
       "4                  0.1818                 3.25               0.0971   \n",
       "...                   ...                  ...                  ...   \n",
       "4809               0.4934                69.00               0.0937   \n",
       "4810               0.0886                 5.50               0.0142   \n",
       "4811               0.0000                 0.00               0.0000   \n",
       "4812               0.0000                 0.00               0.0000   \n",
       "4813               0.0000                 0.00               0.0000   \n",
       "\n",
       "      Average wave period  Wave energy    Depth   \n",
       "0                  2.6134      30.6860  0.551463  \n",
       "1                  2.1795      19.9906  0.541532  \n",
       "2                  2.2522      21.8620  0.537089  \n",
       "3                  2.1345      19.0089  0.523508  \n",
       "4                  2.0400      16.2209  0.523296  \n",
       "...                   ...          ...       ...  \n",
       "4809              12.7750     125.1775  0.040134  \n",
       "4810               5.5811       1.0433  0.002407  \n",
       "4811               0.0000       0.0000 -0.004270  \n",
       "4812               0.0000       0.0000 -0.024852  \n",
       "4813               0.0000       0.0000 -0.021107  \n",
       "\n",
       "[4814 rows x 13 columns]"
      ]
     },
     "execution_count": 23,
     "metadata": {},
     "output_type": "execute_result"
    }
   ],
   "source": [
    "file['Significant wave height']"
   ]
  },
  {
   "cell_type": "code",
   "execution_count": 11,
   "metadata": {},
   "outputs": [],
   "source": [
    "hs = file['Significant wave height']\n",
    "tp = file['Significant wave period']\n",
    "#dt = np.arange(3600,len(hs)*3600,3600)"
   ]
  },
  {
   "cell_type": "code",
   "execution_count": 12,
   "metadata": {},
   "outputs": [],
   "source": [
    "#root_dir = pl.Path('/Users/tmiesse/work/FHRL/eeslr/modelling/xbeach/assateague/forcings')\n",
    "#mainang=270.0\n",
    "# mgb mainang=90 and es mainang=90\n",
    " \n",
    "\n",
    "#xb.write_tide(outpath,dt,water_nav[18000:],water_nav[18000:])\n",
    "gammajsp=3.3\n",
    "s=10.0\n",
    "fnyq=0.45\n",
    "timestep=1.0\n",
    "data = []\n",
    "period = (len(dt)*300)+300\n",
    "duration = 300\n",
    "y = 0\n",
    "#print(d)\n",
    "data.append('FILELIST'+'\\n')\n",
    "for i in range(1,int(period/duration)):\n",
    "    with open(str(outpath / f'jonswap_{i}.txt'),'w') as fin:\n",
    "        #if (type(h0[y]) == np.ma.core.MaskedConstant) or (h0[y]==np.nan):\n",
    "        #    h0[y]=0.001\n",
    "        #    tp[y]=10\n",
    "        #    main[y]=270\n",
    "        #elif (type(tp[y]) == np.ma.core.MaskedConstant) or (tp[y]==np.nan):\n",
    "        #    tp[y]=5\n",
    "        #    main[y]=270\n",
    "        #elif (type(main[y]) == np.ma.core.MaskedConstant) or (main[y]==np.nan):\n",
    "        #    main[y]=270                                        \n",
    "        fin.write('Hm0           = {:.4e}'.format(hs[y])+ '\\n' +\n",
    "                  'fp            = {:.4e}'.format(float(1/(tp[y])))+ '\\n' +\n",
    "                  'mainang       = {:.4e}'.format(270) + '\\n' +\n",
    "                  'gammajsp      = {:.4e}'.format(gammajsp) + '\\n' +\n",
    "                  's             = {:.4e}'.format(s) + '\\n' +\n",
    "                  'fnyq          = {:.4e}'.format(fnyq) + '\\n')\n",
    "        data.append(f'    {duration}    {timestep}    jonswap_{i}.txt'+'\\n')\n",
    "    y+=1\n",
    "with open(str(outpath / 'filelist.txt'),'w') as control:\n",
    "    lines = control.writelines(data)"
   ]
  },
  {
   "cell_type": "code",
   "execution_count": 28,
   "metadata": {},
   "outputs": [
    {
     "data": {
      "text/plain": [
       "244200"
      ]
     },
     "execution_count": 28,
     "metadata": {},
     "output_type": "execute_result"
    }
   ],
   "source": [
    "period"
   ]
  },
  {
   "cell_type": "code",
   "execution_count": 56,
   "metadata": {},
   "outputs": [
    {
     "name": "stdout",
     "output_type": "stream",
     "text": [
      "/Users/tmiesse/work/FHRL/eeslr/modelling/xbeach/erratum/eslr_study/mgb/cd2\n",
      "/Users/tmiesse/work/FHRL/eeslr/modelling/xbeach/erratum/eslr_study/mgb/cd3\n",
      "/Users/tmiesse/work/FHRL/eeslr/modelling/xbeach/erratum/eslr_study/mgb/imp0045\n",
      "/Users/tmiesse/work/FHRL/eeslr/modelling/xbeach/erratum/eslr_study/mgb/cd1\n",
      "/Users/tmiesse/work/FHRL/eeslr/modelling/xbeach/erratum/eslr_study/mgb/imp015\n",
      "/Users/tmiesse/work/FHRL/eeslr/modelling/xbeach/erratum/eslr_study/mgb/imp008\n"
     ]
    }
   ],
   "source": [
    "#root_dir = pl.Path('/Users/tmiesse/work/FHRL/eeslr/modelling/xbeach/assateague/forcings')\n",
    "#mainang=270.0\n",
    "# mgb mainang=90 and es mainang=90\n",
    "dlist = list(path.glob('*'))\n",
    "for d in dlist:\n",
    "    if os.path.isdir(d):\n",
    "        with open(d /'params.txt','w') as fout:\n",
    "            with open(path / 'params.txt','r') as fin:\n",
    "                lines = fin.readlines()\n",
    "                for line in lines:\n",
    "                    if '{vege}' in line:\n",
    "                        if 'cd' in d.name:\n",
    "                            line = 'vegetation    = 1 \\n'\n",
    "                        else:\n",
    "                            line = 'vegetation    = 0 \\n'\n",
    "                    elif '{stop}' in line:\n",
    "                        line = f'tstop         = {str((len(dt)*1800))} \\n'\n",
    "                    fout.write(line)\n",
    "                    \n",
    "        xb.write_tide(d,dt,waterlevel,waterlevel)\n",
    "        gammajsp=3.3\n",
    "        s=10.0\n",
    "        fnyq=0.45\n",
    "        timestep=1.0\n",
    "        data = []\n",
    "        period = (len(dt)*1800)+1800\n",
    "        duration = 1800\n",
    "        y = 0\n",
    "        print(d)\n",
    "        data.append('FILELIST'+'\\n')\n",
    "        for i in range(1,int(period/duration)):\n",
    "            with open(str(d / f'jonswap_{i}.txt'),'w') as fin:\n",
    "                if (type(h0[y]) == np.ma.core.MaskedConstant) or (h0[y]==np.nan):\n",
    "                    h0[y]=0.001\n",
    "                    tp[y]=10\n",
    "                    main[y]=270\n",
    "                elif (type(tp[y]) == np.ma.core.MaskedConstant) or (tp[y]==np.nan):\n",
    "                    tp[y]=5\n",
    "                    main[y]=270\n",
    "                elif (type(main[y]) == np.ma.core.MaskedConstant) or (main[y]==np.nan):\n",
    "                    main[y]=270                                        \n",
    "                fin.write('Hm0           = {:.4e}'.format(h0[y])+ '\\n' +\n",
    "                          'fp            = {:.4e}'.format(float(1/(tp[y])))+ '\\n' +\n",
    "                          'mainang       = {:.4e}'.format(main[y]) + '\\n' +\n",
    "                          'gammajsp      = {:.4e}'.format(gammajsp) + '\\n' +\n",
    "                          's             = {:.4e}'.format(s) + '\\n' +\n",
    "                          'fnyq          = {:.4e}'.format(fnyq) + '\\n')\n",
    "                data.append(f'    {duration}    {timestep}    jonswap_{i}.txt'+'\\n')\n",
    "            y+=1\n",
    "        with open(str(d / 'filelist.txt'),'w') as control:\n",
    "            lines = control.writelines(data)"
   ]
  },
  {
   "cell_type": "code",
   "execution_count": 34,
   "metadata": {},
   "outputs": [
    {
     "data": {
      "text/plain": [
       "True"
      ]
     },
     "execution_count": 34,
     "metadata": {},
     "output_type": "execute_result"
    }
   ],
   "source": [
    "type(tp[9]) == np.ma.core.MaskedConstant"
   ]
  },
  {
   "cell_type": "code",
   "execution_count": 18,
   "metadata": {},
   "outputs": [],
   "source": [
    "waterlevel = nc4.Dataset(root / 'fort.63.nc').variables['zeta'][:,node]\n",
    "dt = np.arange(3600,len(time)*3600,3600)\n",
    "for d in dlist:\n",
    "    if os.path.isdir(d):\n",
    "        xb.write_tide(d,dt,waterlevel,waterlevel) # path to gen file, time, water level"
   ]
  },
  {
   "cell_type": "code",
   "execution_count": 8,
   "metadata": {},
   "outputs": [],
   "source": [
    "waterlevel = nc4.Dataset(path  / 'implicit0045' / 'fort.63.nc').variables['zeta'][:,node]"
   ]
  },
  {
   "cell_type": "code",
   "execution_count": 16,
   "metadata": {},
   "outputs": [],
   "source": [
    "write_tide(root,np.arange(3600,len(waterlevel[740:])*3600,3600),waterlevel[740:]*2,waterlevel[740:]*2)"
   ]
  },
  {
   "cell_type": "code",
   "execution_count": 24,
   "metadata": {},
   "outputs": [],
   "source": []
  },
  {
   "cell_type": "code",
   "execution_count": 30,
   "metadata": {},
   "outputs": [
    {
     "data": {
      "text/plain": [
       "259200"
      ]
     },
     "execution_count": 30,
     "metadata": {},
     "output_type": "execute_result"
    }
   ],
   "source": [
    "len(waterlevel[740:])*3600"
   ]
  },
  {
   "cell_type": "markdown",
   "metadata": {},
   "source": [
    "#### Read and Generate wave parameters for xbeach"
   ]
  },
  {
   "cell_type": "code",
   "execution_count": 6,
   "metadata": {},
   "outputs": [],
   "source": [
    "h0 = nc_file.variables['swan_HS'][s_input,node].data\n",
    "direction = nc4.Dataset(root  / 'base' / 'swan_DIR.63.nc').variables['swan_DIR'][s_input,node].data\n",
    "tp = nc4.Dataset(root  / 'base' / 'swan_TPS.63.nc').variables['swan_TPS'][s_input,node].data\n",
    "\n",
    "xb.write_waves(path,hs,tp,1800,1461600,direction) # path to gen file, wave height, wave period, wave duration, model duration, direction"
   ]
  },
  {
   "cell_type": "markdown",
   "metadata": {},
   "source": [
    "#### Generate Vegetation map for xbeach"
   ]
  },
  {
   "cell_type": "code",
   "execution_count": 26,
   "metadata": {},
   "outputs": [],
   "source": [
    "root = pl.Path('/Users/tmiesse/work/FHRL/eeslr/modelling/xbeach/assateague/grid')"
   ]
  },
  {
   "cell_type": "code",
   "execution_count": 27,
   "metadata": {},
   "outputs": [],
   "source": [
    "xb.write_vege_map(root,root /'bed.dep')"
   ]
  },
  {
   "cell_type": "code",
   "execution_count": 28,
   "metadata": {},
   "outputs": [],
   "source": [
    "def write_frict(path:str,bathy_file:str,fname:str='bedfrict.txt',elevation:float=0.05):\n",
    "    path = pl.Path(path)\n",
    "    with open(str(path / bathy_file),'r+') as fin:\n",
    "        with open(str(path / fname),'w+') as fout:\n",
    "            lines = fin.readlines()\n",
    "            for line in lines:\n",
    "                data = line.strip().split('  ')\n",
    "                for i in range(0,len(data)):\n",
    "                   # print(data)\n",
    "                    vege = []\n",
    "                    new = []\n",
    "                    if data != '':            \n",
    "                        if float(data[i]) > elevation:\n",
    "                            fout.write('   '+str(0.045))\n",
    "                        else:\n",
    "                            fout.write('   '+str(0.02))\n",
    "                fout.write('\\n')\n",
    "    return"
   ]
  },
  {
   "cell_type": "code",
   "execution_count": 29,
   "metadata": {},
   "outputs": [],
   "source": [
    "write_frict(root,root /'bed.dep')"
   ]
  },
  {
   "cell_type": "code",
   "execution_count": null,
   "metadata": {},
   "outputs": [],
   "source": []
  }
 ],
 "metadata": {
  "kernelspec": {
   "display_name": "Python [conda env:general]",
   "language": "python",
   "name": "conda-env-general-py"
  },
  "language_info": {
   "codemirror_mode": {
    "name": "ipython",
    "version": 3
   },
   "file_extension": ".py",
   "mimetype": "text/x-python",
   "name": "python",
   "nbconvert_exporter": "python",
   "pygments_lexer": "ipython3",
   "version": "3.7.7"
  }
 },
 "nbformat": 4,
 "nbformat_minor": 4
}
