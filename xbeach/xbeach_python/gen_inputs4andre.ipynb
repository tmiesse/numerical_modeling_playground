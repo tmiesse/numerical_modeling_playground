{
 "cells": [
  {
   "cell_type": "markdown",
   "metadata": {},
   "source": [
    "# XBeach generate inputs"
   ]
  },
  {
   "cell_type": "markdown",
   "metadata": {},
   "source": [
    "#### Initialize libraries"
   ]
  },
  {
   "cell_type": "code",
   "execution_count": 1,
   "metadata": {},
   "outputs": [],
   "source": [
    "import os\n",
    "import netCDF4 as nc4\n",
    "import numpy as np\n",
    "import pandas as pd\n",
    "import pathlib as pl\n",
    "from datetime import datetime,timedelta"
   ]
  },
  {
   "cell_type": "markdown",
   "metadata": {},
   "source": [
    "### Initialize Paths to files and to output location"
   ]
  },
  {
   "cell_type": "code",
   "execution_count": 2,
   "metadata": {},
   "outputs": [],
   "source": [
    "root = pl.Path('/Users/tmiesse/work/FHRL/eeslr/modelling/Jose/cfs') # \n",
    "path = pl.Path('/Users/tmiesse/work/FHRL/eeslr/modelling/xbeach/erratum/eslr_study/mgb')"
   ]
  },
  {
   "cell_type": "markdown",
   "metadata": {},
   "source": [
    "#### Initialize Forcing time parameters"
   ]
  },
  {
   "cell_type": "code",
   "execution_count": 3,
   "metadata": {},
   "outputs": [],
   "source": [
    "def find_node_ak(fmax,obs_lat,obs_lon):\n",
    "    min_distance = None\n",
    "    best_index = 0\n",
    "    x = fmax.variables['x'][:]\n",
    "    y = fmax.variables['y'][:]\n",
    "    for i in range(len(x)):\n",
    "        current_distance = (float(y[i]) - obs_lat)**2 + (float(x[i]) - obs_lon)**2\n",
    "        if min_distance is None or current_distance < min_distance:\n",
    "            best_index = i\n",
    "            min_distance = current_distance\n",
    "    #print(\"best_index:{} \".format(best_index))\n",
    "    return best_index"
   ]
  },
  {
   "cell_type": "code",
   "execution_count": 4,
   "metadata": {},
   "outputs": [],
   "source": [
    "def write_tide(root_dir,time,front,back):\n",
    "    root_dir = pl.Path(root_dir)\n",
    "    file = root_dir / 'tide.txt'\n",
    "    data = []\n",
    "    for i in range(0,len(time)):\n",
    "        if float(front[i])/float(front[i]) != 1:\n",
    "            if float(front[i-1])/float(front[i-1]) != 1:\n",
    "                front[i] = 0.5\n",
    "            else:\n",
    "                front[i] = front[i-1]\n",
    "        if float(back[i])/float(back[i]) != 1:\n",
    "            if float(back[i-1])/float(back[i-1]) != 1:\n",
    "                back[i] = 0.5\n",
    "            else:\n",
    "                back[i] = back[i-1]\n",
    "         #   front[i] = 0\n",
    "         #  back[i] = 0\n",
    "        data.append('    {:.4e}    {:.4e}    {:.4e}'.format(float(time[i]),float(front[i]),float(back[i])) + '\\n')\n",
    "        #data.append('    {:.4e}    {:.4e}    {:.4e}'.format(float(time[i]),float(front[i]),float(back[i])*1.5) + '\\n')\n",
    "    with open(file,'w') as fin:\n",
    "        fin.writelines(data)\n",
    "    return"
   ]
  },
  {
   "cell_type": "code",
   "execution_count": 5,
   "metadata": {},
   "outputs": [
    {
     "ename": "FileNotFoundError",
     "evalue": "[Errno 2] No such file or directory: b'/Users/tmiesse/work/FHRL/eeslr/modelling/Jose/cfs/swan_HS.63.nc'",
     "output_type": "error",
     "traceback": [
      "\u001b[0;31m---------------------------------------------------------------------------\u001b[0m",
      "\u001b[0;31mFileNotFoundError\u001b[0m                         Traceback (most recent call last)",
      "\u001b[0;32m<ipython-input-5-3a95b9675bf2>\u001b[0m in \u001b[0;36m<module>\u001b[0;34m\u001b[0m\n\u001b[1;32m      1\u001b[0m \u001b[0mstart\u001b[0m \u001b[0;34m=\u001b[0m \u001b[0;34m'20170910 00:00:00'\u001b[0m\u001b[0;34m\u001b[0m\u001b[0;34m\u001b[0m\u001b[0m\n\u001b[1;32m      2\u001b[0m \u001b[0mfreq\u001b[0m \u001b[0;34m=\u001b[0m \u001b[0;34m'30min'\u001b[0m\u001b[0;34m\u001b[0m\u001b[0;34m\u001b[0m\u001b[0m\n\u001b[0;32m----> 3\u001b[0;31m \u001b[0mnc_file\u001b[0m \u001b[0;34m=\u001b[0m \u001b[0mnc4\u001b[0m\u001b[0;34m.\u001b[0m\u001b[0mDataset\u001b[0m\u001b[0;34m(\u001b[0m\u001b[0mroot\u001b[0m \u001b[0;34m/\u001b[0m \u001b[0;34m'swan_HS.63.nc'\u001b[0m\u001b[0;34m)\u001b[0m\u001b[0;34m\u001b[0m\u001b[0;34m\u001b[0m\u001b[0m\n\u001b[0m\u001b[1;32m      4\u001b[0m \u001b[0mnode\u001b[0m \u001b[0;34m=\u001b[0m \u001b[0mfind_node_ak\u001b[0m\u001b[0;34m(\u001b[0m\u001b[0mnc_file\u001b[0m\u001b[0;34m,\u001b[0m\u001b[0;36m37.150951\u001b[0m\u001b[0;34m,\u001b[0m \u001b[0;34m-\u001b[0m\u001b[0;36m75.934593\u001b[0m\u001b[0;34m)\u001b[0m \u001b[0;31m# find the point closest to the coordinates specified\u001b[0m\u001b[0;34m\u001b[0m\u001b[0;34m\u001b[0m\u001b[0m\n\u001b[1;32m      5\u001b[0m \u001b[0mtime\u001b[0m \u001b[0;34m=\u001b[0m \u001b[0mpd\u001b[0m\u001b[0;34m.\u001b[0m\u001b[0mdate_range\u001b[0m\u001b[0;34m(\u001b[0m\u001b[0mstart\u001b[0m\u001b[0;34m=\u001b[0m\u001b[0mstart\u001b[0m\u001b[0;34m,\u001b[0m\u001b[0mperiods\u001b[0m\u001b[0;34m=\u001b[0m\u001b[0mint\u001b[0m\u001b[0;34m(\u001b[0m\u001b[0mlen\u001b[0m\u001b[0;34m(\u001b[0m\u001b[0mnc_file\u001b[0m\u001b[0;34m.\u001b[0m\u001b[0mvariables\u001b[0m\u001b[0;34m[\u001b[0m\u001b[0;34m'swan_HS'\u001b[0m\u001b[0;34m]\u001b[0m\u001b[0;34m[\u001b[0m\u001b[0;34m:\u001b[0m\u001b[0;34m,\u001b[0m\u001b[0mnode\u001b[0m\u001b[0;34m]\u001b[0m\u001b[0;34m)\u001b[0m\u001b[0;34m)\u001b[0m\u001b[0;34m,\u001b[0m\u001b[0mfreq\u001b[0m\u001b[0;34m=\u001b[0m\u001b[0mfreq\u001b[0m\u001b[0;34m)\u001b[0m\u001b[0;34m\u001b[0m\u001b[0;34m\u001b[0m\u001b[0m\n",
      "\u001b[0;32mnetCDF4/_netCDF4.pyx\u001b[0m in \u001b[0;36mnetCDF4._netCDF4.Dataset.__init__\u001b[0;34m()\u001b[0m\n",
      "\u001b[0;32mnetCDF4/_netCDF4.pyx\u001b[0m in \u001b[0;36mnetCDF4._netCDF4._ensure_nc_success\u001b[0;34m()\u001b[0m\n",
      "\u001b[0;31mFileNotFoundError\u001b[0m: [Errno 2] No such file or directory: b'/Users/tmiesse/work/FHRL/eeslr/modelling/Jose/cfs/swan_HS.63.nc'"
     ]
    }
   ],
   "source": [
    "start = '20170910 00:00:00'\n",
    "freq = '30min'\n",
    "nc_file = nc4.Dataset(root / 'swan_HS.63.nc')\n",
    "node = find_node_ak(nc_file,37.150951, -75.934593) # find the point closest to the coordinates specified\n",
    "time = pd.date_range(start=start,periods=int(len(nc_file.variables['swan_HS'][:,node])),freq=freq)"
   ]
  },
  {
   "cell_type": "code",
   "execution_count": null,
   "metadata": {},
   "outputs": [],
   "source": [
    "start1,end1 ='2017-09-18 00:00:00','2017-09-20 00:00:00' #find the pts between the specified start and end times\n",
    "model1 = time2.loc[(start1<=time2['time'])&(time2['time']<end1)].index.values"
   ]
  },
  {
   "cell_type": "markdown",
   "metadata": {},
   "source": [
    "#### Read and Generate water level forcing for xbeach"
   ]
  },
  {
   "cell_type": "code",
   "execution_count": 53,
   "metadata": {},
   "outputs": [],
   "source": [
    "h0 = nc4.Dataset(root / 'implicit0045' / 'swan_HS.63.nc','r').variables['swan_HS'][model1[0]:model1[-1],node]\n",
    "tp = nc4.Dataset(root / 'explicit_cd1' /'swan_TPS.63.nc','r').variables['swan_TPS'][model1[0]:model1[-1],node]\n",
    "main = nc4.Dataset(root / 'explicit_cd1' / 'swan_DIR.63.nc','r').variables['swan_DIR'][model1[0]:model1[-1],node]\n",
    "waterlevel = nc4.Dataset(root / 'implicit0045' /'fort.63.nc').variables['zeta'][model1[0]:model1[-1],node]\n",
    "interval = 1800\n",
    "dt = np.arange(interval,len(h0)+interval,interval)"
   ]
  },
  {
   "cell_type": "code",
   "execution_count": 2,
   "metadata": {},
   "outputs": [
    {
     "ename": "NameError",
     "evalue": "name 'patha' is not defined",
     "output_type": "error",
     "traceback": [
      "\u001b[0;31m---------------------------------------------------------------------------\u001b[0m",
      "\u001b[0;31mNameError\u001b[0m                                 Traceback (most recent call last)",
      "\u001b[0;32m<ipython-input-2-30aa34952093>\u001b[0m in \u001b[0;36m<module>\u001b[0;34m\u001b[0m\n\u001b[0;32m----> 1\u001b[0;31m \u001b[0mpatha\u001b[0m\u001b[0;34m\u001b[0m\u001b[0;34m\u001b[0m\u001b[0m\n\u001b[0m",
      "\u001b[0;31mNameError\u001b[0m: name 'patha' is not defined"
     ]
    }
   ],
   "source": [
    "patha"
   ]
  },
  {
   "cell_type": "code",
   "execution_count": null,
   "metadata": {},
   "outputs": [],
   "source": [
    "#root_dir = pl.Path('/Users/tmiesse/work/FHRL/eeslr/modelling/xbeach/assateague/forcings')\n",
    "#mainang=270.0\n",
    "# mgb mainang=90 and es mainang=90\n",
    "\n",
    "                    \n",
    "write_tide(path,dt,waterlevel,waterlevel)\n",
    "gammajsp=3.3\n",
    "s=10.0\n",
    "fnyq=0.45\n",
    "timestep=1.0\n",
    "data = []\n",
    "period = (len(dt)*1800)+1800\n",
    "duration = 1800\n",
    "y = 0\n",
    "print(d)\n",
    "data.append('FILELIST'+'\\n')\n",
    "for i in range(1,int(period/duration)):\n",
    "    with open(str(d / f'jonswap_{i}.txt'),'w') as fin:\n",
    "        if (type(h0[y]) == np.ma.core.MaskedConstant) or (h0[y]==np.nan):\n",
    "            h0[y]=0.001\n",
    "            tp[y]=10\n",
    "            main[y]=270\n",
    "        elif (type(tp[y]) == np.ma.core.MaskedConstant) or (tp[y]==np.nan):\n",
    "            tp[y]=5\n",
    "            main[y]=270\n",
    "        elif (type(main[y]) == np.ma.core.MaskedConstant) or (main[y]==np.nan):\n",
    "            main[y]=270                                        \n",
    "        fin.write('Hm0           = {:.4e}'.format(h0[y])+ '\\n' +\n",
    "                  'fp            = {:.4e}'.format(float(1/(tp[y])))+ '\\n' +\n",
    "                  'mainang       = {:.4e}'.format(main[y]) + '\\n' +\n",
    "                  'gammajsp      = {:.4e}'.format(gammajsp) + '\\n' +\n",
    "                  's             = {:.4e}'.format(s) + '\\n' +\n",
    "                  'fnyq          = {:.4e}'.format(fnyq) + '\\n')\n",
    "        data.append(f'    {duration}    {timestep}    jonswap_{i}.txt'+'\\n')\n",
    "    y+=1\n",
    "with open(str(patha / 'filelist.txt'),'w') as control:\n",
    "    lines = control.writelines(data)"
   ]
  },
  {
   "cell_type": "code",
   "execution_count": null,
   "metadata": {},
   "outputs": [],
   "source": []
  }
 ],
 "metadata": {
  "kernelspec": {
   "display_name": "Python [conda env:general]",
   "language": "python",
   "name": "conda-env-general-py"
  },
  "language_info": {
   "codemirror_mode": {
    "name": "ipython",
    "version": 3
   },
   "file_extension": ".py",
   "mimetype": "text/x-python",
   "name": "python",
   "nbconvert_exporter": "python",
   "pygments_lexer": "ipython3",
   "version": "3.7.7"
  }
 },
 "nbformat": 4,
 "nbformat_minor": 4
}
