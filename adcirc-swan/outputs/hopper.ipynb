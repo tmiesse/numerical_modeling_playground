{
 "cells": [
  {
   "cell_type": "markdown",
   "id": "3b696ec8-c33f-405b-b8e9-9cac9d6789af",
   "metadata": {},
   "source": [
    "## GMUs HPC Hopper and Argo"
   ]
  },
  {
   "cell_type": "markdown",
   "id": "f7b08a15-a029-458e-8390-da6b8a2562d3",
   "metadata": {},
   "source": [
    "The Office of Research Computing administers two high-performance computing clusters called ARGO and HOPPER, available to all GMU faculty and faculty-sponsored students.\n",
    "\n",
    "ARGO is a 1500+ CPU core batch-processing cluster based on the condo model. Contributors buying nodes for the ARGO clusters are provided higher priority access to the whole cluster and temporary exclusive access to the funded nodes by arrangement.\n",
    "\n",
    "HOPPER is a more powerful cluster with over 10,000+ cores, including 24 A100 80GB GPUs, 2 DGX A100 40GB GPUs, and 20 A40s for OpenStack. It is based on the condo model, but contributors buying nodes for the HOPPER clusters are provided preemptive access to funded nodes.\n",
    "\n",
    "This wiki provides login information and various HOWTO's as a guide to ORC users. The articles cover a wide range of topics, including cluster specifications, getting an account, logging in, uploading data, avoiding quota issues, getting started with SLURM, environment modules, installing user packages, running parallel jobs, running machine learning workloads, creating checkpoints, using Globus, and more."
   ]
  },
  {
   "cell_type": "markdown",
   "id": "d5fc68b5-85dc-4140-9726-3299a5cd2932",
   "metadata": {},
   "source": [
    "#### Example Job File"
   ]
  },
  {
   "cell_type": "raw",
   "id": "0b219326-3cb9-424d-b88e-5bee4dd1b8c5",
   "metadata": {},
   "source": [
    "#!/bin/bash\n",
    "#SBATCH   --partition=normal            # submit   to the normal(default) partition\n",
    "#SBATCH   --job-name=ww3_test             # name the job\n",
    "#SBATCH   --output=r-test-%j.out        # write stdout/stderr   to named file\n",
    "#SBATCH   --error=r-test-%j.err      \n",
    "#SBATCH   --time=0-00:20:00             # Run time\n",
    "#SBATCH   --nodes=10                     # Request N nodes\n",
    "#SBATCH   --cpus-per-task=480            # Request n   cores per node\n",
    "#SBATCH   --mem-per-cpu=2GB             # Request nGB RAM per core\n",
    "\n",
    "NCDIR=/home/tmiesse/netcdf_build\n",
    "FPATH=/opt/intel/2020.2/compilers_and_libraries_2020.2.254/linux/bin/intel64/ifort\n",
    "CPATH=/opt/intel/2020.2/compilers_and_libraries_2020.2.254/linux/bin/intel64/icc\n",
    "CXXPATH=/opt/intel/2020.2/compilers_and_libraries_2020.2.254/linux/bin/intel64/icpc\n",
    "\n",
    "#load modules\n",
    "module load OneAPI\n",
    "export $NCDIR\n",
    "export $FPATH\n",
    "export $CPATH\n",
    "export $CXXPATH\n",
    "mpirun padcswan"
   ]
  },
  {
   "cell_type": "markdown",
   "id": "01e3253e-aea9-4274-8d76-f70db937df3d",
   "metadata": {},
   "source": [
    "## Need to compile Netcdf-C and Netcdf Fortran"
   ]
  },
  {
   "cell_type": "raw",
   "id": "b4f9c11b-d432-4611-bcb4-9e0933c2fbc8",
   "metadata": {},
   "source": [
    "git clone https://github.com/Unidata/netcdf-c\n",
    "git clone git@github.com:Unidata/netcdf-fortran.git"
   ]
  },
  {
   "cell_type": "markdown",
   "id": "b04131b9-89f7-49e4-acbd-ece023b7f439",
   "metadata": {},
   "source": [
    "### Paths"
   ]
  },
  {
   "cell_type": "raw",
   "id": "271f50ac-4a14-4a79-9783-42a10bb7da92",
   "metadata": {},
   "source": [
    "ODIR=/opt/sw/spack/apps/linux-centos8-cascadelake/intel-20.0.2/curl-7.74.0-hc\n",
    "H5DIR=/opt/sw/spack/apps/linux-centos8-cascadelake/intel-20.0.2/hdf5-1.12.0-dw\n",
    "ZDIR=/opt/sw/spack/apps/linux-centos8-cascadelake/intel-20.0.2/zlib-1.2.11-tj\n",
    "SDIR=/opt/sw/spack/apps/linux-centos8-cascadelake/intel-20.0.2/sz-2.1.11.1-cn"
   ]
  },
  {
   "cell_type": "markdown",
   "id": "7317916f-b83f-4841-bfb4-8f37d4107ebf",
   "metadata": {},
   "source": [
    "#### Compile Netcdf-C"
   ]
  },
  {
   "cell_type": "raw",
   "id": "50a8004c-b9c0-4f80-885b-2b781c0a867e",
   "metadata": {},
   "source": [
    "NCDIR=\n",
    "./bootstrap\n",
    " make clean;make distclean; \n",
    "CC=icc FC=ifort ./configure --prefix=$NCDIR LDFLAGS=\"-L$H5DIR/lib -L$ODIR/lib -L$ZDIR/lib -L$SDIR/lib\" CPPFLAGS=\"-I$H5DIR/include -I$ODIR/include -I$ZDIR/include -I$SDIR/include\" LT_SYS_LIBRARY_PATH=$H5DIR/lib; make -j 2 ;make install; LT_SYS_LIBRARY_PATH=$NCDIR/lib make check ; "
   ]
  },
  {
   "cell_type": "markdown",
   "id": "1e56e411-35c7-43a8-afb8-975b3a4a92a4",
   "metadata": {},
   "source": [
    "#### Compile Netcdf-Fortran"
   ]
  },
  {
   "cell_type": "raw",
   "id": "1aa95496-2b1a-41c5-8bf6-0c4dec00be74",
   "metadata": {},
   "source": [
    "cmake ../ \\\n",
    "-DCMAKE_C_COMPILER=icc -DCMAKE_Fortran_COMPILER=ifort \\\n",
    "-DBUILD_ADCIRC=ON -DBUILD_PADCIRC=ON -DBUILD_ADCSWAN=ON \\\n",
    "-DBUILD_PADCSWAN=ON -DBUILD_ADCPREP=ON -DBUILD_UTILITIES=ON \\\n",
    "-DBUILD_ASWIP=ON -DBUILD_SWAN=ON -DBUILD_PUNSWAN=ON \\\n",
    "-DENABLE_OUTPUT_NETCDF=ON -DENABLE_OUTPUT_XDMF=OFF \\\n",
    "-DNETCDFHOME=/scratch/tmiesse/src_libs/netcdf_build"
   ]
  },
  {
   "cell_type": "code",
   "execution_count": null,
   "id": "c1a897d7-1ceb-4f5f-a5c6-1ca4ccb8ad74",
   "metadata": {},
   "outputs": [],
   "source": []
  },
  {
   "cell_type": "code",
   "execution_count": null,
   "id": "5981ce73-67d2-4832-b411-4d777d2b85f1",
   "metadata": {},
   "outputs": [],
   "source": []
  },
  {
   "cell_type": "code",
   "execution_count": null,
   "id": "e3c1d4dd-d98a-4f54-bfd8-accd61408173",
   "metadata": {},
   "outputs": [],
   "source": []
  },
  {
   "cell_type": "code",
   "execution_count": null,
   "id": "b8ae8fe3-da84-4090-ab2a-b80bcdd961d9",
   "metadata": {},
   "outputs": [],
   "source": []
  },
  {
   "cell_type": "code",
   "execution_count": null,
   "id": "1dfa7bee-eff9-413d-afa0-d2b5b6c88cea",
   "metadata": {},
   "outputs": [],
   "source": []
  },
  {
   "cell_type": "code",
   "execution_count": null,
   "id": "f18042ca-4479-48b0-9cb3-5dd2b63de73c",
   "metadata": {},
   "outputs": [],
   "source": []
  }
 ],
 "metadata": {
  "kernelspec": {
   "display_name": "Python 3 (ipykernel)",
   "language": "python",
   "name": "python3"
  },
  "language_info": {
   "codemirror_mode": {
    "name": "ipython",
    "version": 3
   },
   "file_extension": ".py",
   "mimetype": "text/x-python",
   "name": "python",
   "nbconvert_exporter": "python",
   "pygments_lexer": "ipython3",
   "version": "3.9.12"
  }
 },
 "nbformat": 4,
 "nbformat_minor": 5
}
