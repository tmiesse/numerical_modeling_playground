{
 "cells": [
  {
   "cell_type": "markdown",
   "metadata": {},
   "source": [
    "# Downloading and coverting ERA5 files"
   ]
  },
  {
   "cell_type": "markdown",
   "metadata": {},
   "source": [
    "Information on the fifth generation ECMWF atmospheric reanalysis of the global climate ERA5 is found at:\n",
    "https://cds.climate.copernicus.eu/cdsapp#!/dataset/reanalysis-era5-single-levels?tab=overview"
   ]
  },
  {
   "cell_type": "markdown",
   "metadata": {},
   "source": [
    "# 1) Requesting ERA5 data"
   ]
  },
  {
   "cell_type": "markdown",
   "metadata": {},
   "source": [
    "a) Go to the ERA5 hourly data on single levels from 1979 to present (https://cds.climate.copernicus.eu/cdsapp#!/dataset/reanalysis-era5-single-levels?tab=form)\n",
    "\n",
    "b) In product type select Reanalysis\n",
    "\n",
    "c) In Variable select Popular -> 10m u-component of wind, 10m v-component of wind, and Mean sea level pressure.\n",
    "\n",
    "d) In this example we will prepare the data for Hurricane Arthur, from 06/27/2014 to 07/09/2014. Therefore, we will have to download 2 ERA5 files, one from 06/27/2014 to 06/30/2014 and another from 07/01/2014 to 07/09/2014. \n",
    "\n",
    "First, we will download the data from 06/27/2014 to 06/30/2014. To do that we just need to select the Year, Month and Day accordingly. We will work with inputs every 6 hours, so select the Time: 00:00, 06:00, 12:00, and 18:00.\n",
    "\n",
    "e) In the Geographical area tab select “Whole available region”\n",
    "\n",
    "f) Select the GRIB format in the Format tab.\n",
    "\n",
    "g) Click on “Show API request” and save the code.\n"
   ]
  },
  {
   "cell_type": "markdown",
   "metadata": {},
   "source": [
    "# 2) Downloading ERA5 data"
   ]
  },
  {
   "cell_type": "markdown",
   "metadata": {},
   "source": [
    "Importing the necessary lybraries:\n",
    "\n",
    "\n",
    "cfgrib is installed as:\n",
    "conda install -c conda-forge cfgrib\n",
    "xarray is installed as:\n",
    "conda install -c conda-forge xarray dask netCDF4 bottleneck"
   ]
  },
  {
   "cell_type": "code",
   "execution_count": 1,
   "metadata": {},
   "outputs": [],
   "source": [
    "import sys;sys.path.append('../adcirc_swan')\n",
    "import arctic as arc;\n",
    "import sys,getopt\n",
    "import pandas as pd\n",
    "import numpy as np\n",
    "import pathlib as pl\n",
    "import numpy.core.multiarray \n",
    "import netCDF4 as nc4\n",
    "import xarray as xr\n",
    "import scipy.interpolate\n",
    "import cdsapi\n",
    "import datetime\n",
    "from pyproj import Proj, transform\n",
    "import matplotlib.pyplot as plt;\n",
    "c = cdsapi.Client()\n",
    "from PIL import Image\n",
    "import matplotlib as mpl;#import geopandas as gpd"
   ]
  },
  {
   "cell_type": "markdown",
   "metadata": {},
   "source": [
    "Paste the API request and start downloading:"
   ]
  },
  {
   "cell_type": "code",
   "execution_count": 2,
   "metadata": {},
   "outputs": [],
   "source": [
    "days = np.arange(0,31).astype(str).tolist()\n",
    "#years = np.arange(1994,2022).astype(str).tolist()\n",
    "#months= np.arange(1,12).astype(str).tolist()"
   ]
  },
  {
   "cell_type": "code",
   "execution_count": 3,
   "metadata": {},
   "outputs": [
    {
     "name": "stderr",
     "output_type": "stream",
     "text": [
      "2023-03-02 15:10:50,796 INFO Welcome to the CDS\n",
      "2023-03-02 15:10:50,797 INFO Sending request to https://cds.climate.copernicus.eu/api/v2/resources/reanalysis-era5-single-levels\n",
      "2023-03-02 15:10:51,002 INFO Request is queued\n",
      "2023-03-02 15:10:52,143 INFO Request is running\n",
      "2023-03-02 15:23:12,976 INFO Request is completed\n",
      "2023-03-02 15:23:12,977 INFO Downloading https://download-0016.copernicus-climate.eu/cache-compute-0016/cache/data0/adaptor.mars.internal-1677788011.3052394-2133-4-a76316af-1df6-4ae3-9a75-fbefee76690d.nc to storm2019.nc (8.4G)\n",
      "2023-03-02 15:52:51,332 INFO Download rate 4.8M/s                                                                                                               \n"
     ]
    },
    {
     "data": {
      "text/plain": [
       "Result(content_length=8970408508,content_type=application/x-netcdf,location=https://download-0016.copernicus-climate.eu/cache-compute-0016/cache/data0/adaptor.mars.internal-1677788011.3052394-2133-4-a76316af-1df6-4ae3-9a75-fbefee76690d.nc)"
      ]
     },
     "execution_count": 3,
     "metadata": {},
     "output_type": "execute_result"
    }
   ],
   "source": [
    "time = ['00:00', '02:00', '04:00','06:00', '08:00', '10:00',\n",
    "        '12:00', '14:00', '16:00','18:00', '20:00', '22:00',]\n",
    "        #'12:00', '13:00', '14:00','15:00', '16:00', '17:00',\n",
    "        #'18:00', '19:00', '20:00','21:00', '22:00', '23:00',]\n",
    "        #\n",
    "c.retrieve(\n",
    "    'reanalysis-era5-single-levels',\n",
    "    {\n",
    "        'product_type': 'reanalysis',\n",
    "        'format':'netcdf',\n",
    "        #'area':[90,-180,30,180],\n",
    "        'variable': [\n",
    "            '10m_u_component_of_wind',\n",
    "            '10m_v_component_of_wind',\n",
    "            'mean_sea_level_pressure',\n",
    "            'Sea_Ice_Concentration',\n",
    "        ],\n",
    "        'year': '2019',\n",
    "        'month': ['10','11','12'],\n",
    "        'day': days,\n",
    "        'time': time,\n",
    "    },'storm2019.nc')"
   ]
  },
  {
   "cell_type": "markdown",
   "metadata": {},
   "source": [
    "# 3) Converting the .grib file into .22 (NWS=6)"
   ]
  },
  {
   "cell_type": "markdown",
   "metadata": {},
   "source": [
    "Set the path to where the .grib data was saved:"
   ]
  },
  {
   "cell_type": "markdown",
   "metadata": {},
   "source": [
    "Open the .grib file:"
   ]
  },
  {
   "cell_type": "code",
   "execution_count": 5,
   "metadata": {},
   "outputs": [],
   "source": [
    "path = pl.Path('/Users/tmiesse/work/FHRL/arctic/model/ice_paper/storm2019/sea_ice/era5')\n",
    "file = 'storm2019.nc'\n",
    "grib = xr.open_dataset(path / file)#, engine='cfgrib')\n",
    "#file = 'wnd10m.gdas.201911.grib2'\n",
    "#grib2= xr.open_dataset(path / file, engine='cfgrib')\n",
    "#lats2 = np.arange(90,-90.205,-0.205)\n",
    "#lons2 = np.arange(0,360.205,0.205)\n",
    "#grib2 = grib2.interp(latitude=lat,longitude=lon,method='nearest')#.data_vars['prmsl']"
   ]
  },
  {
   "cell_type": "markdown",
   "metadata": {},
   "source": [
    "Extract the variables of interest:"
   ]
  },
  {
   "cell_type": "code",
   "execution_count": 6,
   "metadata": {},
   "outputs": [],
   "source": [
    "# bounding box of domain\n",
    "lat1,lat2 = 30,90\n",
    "lon1,lon2 = -220, -84"
   ]
  },
  {
   "cell_type": "code",
   "execution_count": 14,
   "metadata": {},
   "outputs": [],
   "source": [
    "x,y = grib['xgrid'],grib['ygrid']\n",
    "xgrid,ygrid = np.meshgrid(x,y)"
   ]
  },
  {
   "cell_type": "code",
   "execution_count": 16,
   "metadata": {
    "collapsed": true,
    "jupyter": {
     "outputs_hidden": true
    },
    "tags": []
   },
   "outputs": [
    {
     "name": "stderr",
     "output_type": "stream",
     "text": [
      "/Users/tmiesse/miniconda3/envs/general/lib/python3.10/site-packages/pyproj/crs/crs.py:141: FutureWarning:\n",
      "\n",
      "'+init=<authority>:<code>' syntax is deprecated. '<authority>:<code>' is the preferred initialization method. When making the change, be mindful of axis order changes: https://pyproj4.github.io/pyproj/stable/gotchas.html#axis-order-changes-in-proj-6\n",
      "\n",
      "/Users/tmiesse/miniconda3/envs/general/lib/python3.10/site-packages/pyproj/crs/crs.py:141: FutureWarning:\n",
      "\n",
      "'+init=<authority>:<code>' syntax is deprecated. '<authority>:<code>' is the preferred initialization method. When making the change, be mindful of axis order changes: https://pyproj4.github.io/pyproj/stable/gotchas.html#axis-order-changes-in-proj-6\n",
      "\n",
      "/var/folders/6c/dqn6lv8s37986zd3jwzl322w0000gn/T/ipykernel_82370/734846631.py:3: DeprecationWarning:\n",
      "\n",
      "This function is deprecated. See: https://pyproj4.github.io/pyproj/stable/gotchas.html#upgrading-to-pyproj-2-from-pyproj-1\n",
      "\n"
     ]
    }
   ],
   "source": [
    "inProj = Proj(init='epsg:3411')\n",
    "outProj = Proj(init='epsg:4326')\n",
    "x2,y2 = transform(inProj,outProj,xgrid,ygrid)"
   ]
  },
  {
   "cell_type": "code",
   "execution_count": 7,
   "metadata": {},
   "outputs": [],
   "source": [
    "lat = grib.coords['latitude'][:].values\n",
    "lon= grib.coords['longitude'][:].values\n",
    "time = grib.coords['time'].values[:]\n",
    "idx = np.where((lon1+360 <= lon)&(lon<=lon2+360))[0]\n",
    "idy = np.where((lat1 <= lat)&(lat<=lat2))[0]\n"
   ]
  },
  {
   "cell_type": "code",
   "execution_count": 8,
   "metadata": {},
   "outputs": [
    {
     "name": "stderr",
     "output_type": "stream",
     "text": [
      "/var/folders/6c/dqn6lv8s37986zd3jwzl322w0000gn/T/ipykernel_8159/880946532.py:1: DeprecationWarning:\n",
      "\n",
      "parsing timezone aware datetimes is deprecated; this will raise an error in the future\n",
      "\n"
     ]
    }
   ],
   "source": [
    "ts = [(t - np.datetime64('1970-01-01T00:00:00Z')) / np.timedelta64(1, 's')  for t in time]\n",
    "ts2 = [datetime.datetime.utcfromtimestamp(t) for t in ts]"
   ]
  },
  {
   "cell_type": "code",
   "execution_count": null,
   "metadata": {},
   "outputs": [],
   "source": []
  },
  {
   "cell_type": "code",
   "execution_count": 9,
   "metadata": {},
   "outputs": [
    {
     "data": {
      "text/plain": [
       "datetime.datetime(2019, 12, 30, 22, 0)"
      ]
     },
     "execution_count": 9,
     "metadata": {},
     "output_type": "execute_result"
    }
   ],
   "source": [
    "ts2[-1]"
   ]
  },
  {
   "cell_type": "code",
   "execution_count": 12,
   "metadata": {
    "tags": []
   },
   "outputs": [
    {
     "name": "stdout",
     "output_type": "stream",
     "text": [
      "amount of data 131345 data is 131345\n",
      "generated owi formatted forcings\n"
     ]
    }
   ],
   "source": [
    "#ts = [(t - np.datetime64('1970-01-01T00:00:00Z')) / np.timedelta64(1, 's')  for t in time]\n",
    "#ts2 = [datetime.datetime.utcfromtimestamp(t) for t in ts]\n",
    "#ts2 = time\n",
    "dx = 0.25#np.abs(lon[0]-lon[1])# 0.205 is cfsv2 wind increment\n",
    "dy = 0.25#np.abs(lat[0]-lat[1])#\n",
    "ilon = len(idx)\n",
    "ilat = len(idy)\n",
    "start = ts2[0]\n",
    "end = ts2[-1]\n",
    "swlat = lat1\n",
    "swlon = lon1#+360\n",
    "header = 'Oceanweather WIN/PRE Format                            {:12s}   {:12s}\\n'.format(str(start.strftime('%Y%m%d%H')),str(end.strftime('%Y%m%d%H')))#     {}'\n",
    "dt = ts2\n",
    "file = 'fort.225'\n",
    "\n",
    "arc.force2owi(file,dx,dy,dt,ilon,ilat,start,end,swlat,swlon,header,grib,lat1,lat2,lon1,lon2,\\\n",
    "          uwind='u10',vwind='v10',psl='msl',forcing='era5')"
   ]
  },
  {
   "cell_type": "code",
   "execution_count": null,
   "metadata": {},
   "outputs": [],
   "source": []
  },
  {
   "cell_type": "code",
   "execution_count": null,
   "metadata": {},
   "outputs": [],
   "source": []
  },
  {
   "cell_type": "code",
   "execution_count": 2,
   "metadata": {},
   "outputs": [
    {
     "name": "stderr",
     "output_type": "stream",
     "text": [
      "/Users/tmiesse/miniconda3/envs/general/lib/python3.10/site-packages/pyproj/crs/crs.py:141: FutureWarning:\n",
      "\n",
      "'+init=<authority>:<code>' syntax is deprecated. '<authority>:<code>' is the preferred initialization method. When making the change, be mindful of axis order changes: https://pyproj4.github.io/pyproj/stable/gotchas.html#axis-order-changes-in-proj-6\n",
      "\n",
      "/Users/tmiesse/miniconda3/envs/general/lib/python3.10/site-packages/pyproj/crs/crs.py:141: FutureWarning:\n",
      "\n",
      "'+init=<authority>:<code>' syntax is deprecated. '<authority>:<code>' is the preferred initialization method. When making the change, be mindful of axis order changes: https://pyproj4.github.io/pyproj/stable/gotchas.html#axis-order-changes-in-proj-6\n",
      "\n"
     ]
    }
   ],
   "source": [
    "path = pl.Path('/Users/tmiesse/work/FHRL/arctic/ice_data/satelite/sentinel-2')\n",
    "files = list(path.glob('*'))\n",
    "lat1,lat2 = 30,90\n",
    "lon1,lon2 = -250, -85\n",
    "start = pd.to_datetime(files[0].name.split('_')[4])\n",
    "end = pd.to_datetime(files[-1].name.split('_')[4])\n",
    "header = 'Oceanweather WIN/PRE Format                            {:12s}   {:12s}\\n'.format(str(start.strftime('%Y%m%d%H')),str(end.strftime('%Y%m%d%H')))#     {}'\n",
    "\n",
    "inProj = Proj(init='epsg:3411')\n",
    "outProj = Proj(init='epsg:4326')\n"
   ]
  },
  {
   "cell_type": "code",
   "execution_count": 3,
   "metadata": {},
   "outputs": [
    {
     "name": "stdout",
     "output_type": "stream",
     "text": [
      "amount of data 5020990464 data is 9\n",
      "generated owi formatted forcings\n"
     ]
    }
   ],
   "source": [
    "arc.sat_seaice2owi(header,files[:1],inProj,outProj,lat1,lat2,lon1,lon2,sea_ice='cdr_seaice_conc')"
   ]
  },
  {
   "cell_type": "code",
   "execution_count": null,
   "metadata": {},
   "outputs": [],
   "source": []
  },
  {
   "cell_type": "code",
   "execution_count": 14,
   "metadata": {},
   "outputs": [
    {
     "data": {
      "text/plain": [
       "'20190104'"
      ]
     },
     "execution_count": 14,
     "metadata": {},
     "output_type": "execute_result"
    }
   ],
   "source": []
  },
  {
   "cell_type": "code",
   "execution_count": null,
   "metadata": {},
   "outputs": [],
   "source": []
  },
  {
   "cell_type": "code",
   "execution_count": null,
   "metadata": {},
   "outputs": [],
   "source": []
  },
  {
   "cell_type": "code",
   "execution_count": null,
   "metadata": {},
   "outputs": [],
   "source": []
  },
  {
   "cell_type": "code",
   "execution_count": null,
   "metadata": {},
   "outputs": [],
   "source": []
  },
  {
   "cell_type": "code",
   "execution_count": null,
   "metadata": {},
   "outputs": [],
   "source": []
  }
 ],
 "metadata": {
  "kernelspec": {
   "display_name": "Python [conda env:general]",
   "language": "python",
   "name": "conda-env-general-py"
  },
  "language_info": {
   "codemirror_mode": {
    "name": "ipython",
    "version": 3
   },
   "file_extension": ".py",
   "mimetype": "text/x-python",
   "name": "python",
   "nbconvert_exporter": "python",
   "pygments_lexer": "ipython3",
   "version": "3.10.6"
  }
 },
 "nbformat": 4,
 "nbformat_minor": 4
}
