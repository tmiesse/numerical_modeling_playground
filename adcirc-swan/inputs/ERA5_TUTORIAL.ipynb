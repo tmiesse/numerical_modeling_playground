{
 "cells": [
  {
   "cell_type": "markdown",
   "metadata": {},
   "source": [
    "# Downloading and coverting ERA5 files"
   ]
  },
  {
   "cell_type": "markdown",
   "metadata": {},
   "source": [
    "Information on the fifth generation ECMWF atmospheric reanalysis of the global climate ERA5 is found at:\n",
    "https://cds.climate.copernicus.eu/cdsapp#!/dataset/reanalysis-era5-single-levels?tab=overview"
   ]
  },
  {
   "cell_type": "markdown",
   "metadata": {},
   "source": [
    "# 1) Requesting ERA5 data"
   ]
  },
  {
   "cell_type": "markdown",
   "metadata": {},
   "source": [
    "a) Go to the ERA5 hourly data on single levels from 1979 to present (https://cds.climate.copernicus.eu/cdsapp#!/dataset/reanalysis-era5-single-levels?tab=form)\n",
    "\n",
    "b) In product type select Reanalysis\n",
    "\n",
    "c) In Variable select Popular -> 10m u-component of wind, 10m v-component of wind, and Mean sea level pressure.\n",
    "\n",
    "d) In this example we will prepare the data for Hurricane Arthur, from 06/27/2014 to 07/09/2014. Therefore, we will have to download 2 ERA5 files, one from 06/27/2014 to 06/30/2014 and another from 07/01/2014 to 07/09/2014. \n",
    "\n",
    "First, we will download the data from 06/27/2014 to 06/30/2014. To do that we just need to select the Year, Month and Day accordingly. We will work with inputs every 6 hours, so select the Time: 00:00, 06:00, 12:00, and 18:00.\n",
    "\n",
    "e) In the Geographical area tab select “Whole available region”\n",
    "\n",
    "f) Select the GRIB format in the Format tab.\n",
    "\n",
    "g) Click on “Show API request” and save the code.\n"
   ]
  },
  {
   "cell_type": "markdown",
   "metadata": {},
   "source": [
    "# 2) Downloading ERA5 data"
   ]
  },
  {
   "cell_type": "markdown",
   "metadata": {},
   "source": [
    "Importing the necessary lybraries:\n",
    "\n",
    "\n",
    "cfgrib is installed as:\n",
    "conda install -c conda-forge cfgrib\n",
    "xarray is installed as:\n",
    "conda install -c conda-forge xarray dask netCDF4 bottleneck"
   ]
  },
  {
   "cell_type": "code",
   "execution_count": 15,
   "metadata": {},
   "outputs": [],
   "source": [
    "import sys;sys.path.append('../adcirc_swan')\n",
    "import adcirc as adc;import regional as reg\n",
    "import utils as ut\n",
    "import sys,getopt\n",
    "import pandas as pd\n",
    "import numpy as np\n",
    "import pathlib as pl\n",
    "import numpy.core.multiarray \n",
    "import netCDF4 as nc4\n",
    "import xarray as xr\n",
    "import scipy.interpolate\n",
    "import datetime\n",
    "import cdsapi\n",
    "import matplotlib as mpl\n",
    "from PIL import Image\n",
    "from datetime import timedelta\n",
    "from mpl_toolkits.basemap import Basemap\n",
    "import glob\n",
    "import os\n",
    "import matplotlib.tri as tri\n",
    "import datetime\n",
    "import matplotlib.pyplot as plt\n",
    "from datetime import timedelta\n",
    "c = cdsapi.Client()"
   ]
  },
  {
   "cell_type": "markdown",
   "metadata": {},
   "source": [
    "Paste the API request and start downloading:"
   ]
  },
  {
   "cell_type": "code",
   "execution_count": 20,
   "metadata": {},
   "outputs": [],
   "source": [
    "file1 = pd.read_csv('/Users/tmiesse/work/FHRL/eeslr/field/rbr/cbec/ruskin_process/cbec_s1_204010_20221012_1354_hs.csv',skiprows=1)\n",
    "file2 = pd.read_csv('/Users/tmiesse/Downloads/CO-OPS__8575512__bp.csv')\n",
    "start_h0 = pd.to_datetime(file1['Time'][0]);\n",
    "end_h0   = pd.to_datetime(file1['Time'].iloc[-1]);\n",
    "\n",
    "nearest = np.where((start_h0-timedelta(minutes=35)<=pd.to_datetime(file2['Date Time']))&(pd.to_datetime(file2['Date Time'])<(start_h0+timedelta(minutes=35))))\n"
   ]
  },
  {
   "cell_type": "code",
   "execution_count": 22,
   "metadata": {},
   "outputs": [
    {
     "data": {
      "text/plain": [
       "0      2022-05-06 00:00:00\n",
       "1      2022-05-06 00:06:00\n",
       "2      2022-05-06 00:12:00\n",
       "3      2022-05-06 00:18:00\n",
       "4      2022-05-06 00:24:00\n",
       "               ...        \n",
       "7435   2022-06-05 23:30:00\n",
       "7436   2022-06-05 23:36:00\n",
       "7437   2022-06-05 23:42:00\n",
       "7438   2022-06-05 23:48:00\n",
       "7439   2022-06-05 23:54:00\n",
       "Name: Date Time, Length: 7440, dtype: datetime64[ns]"
      ]
     },
     "execution_count": 22,
     "metadata": {},
     "output_type": "execute_result"
    }
   ],
   "source": [
    "pd.to_datetime(file2['Date Time'])"
   ]
  },
  {
   "cell_type": "code",
   "execution_count": 23,
   "metadata": {},
   "outputs": [
    {
     "data": {
      "text/plain": [
       "Timestamp('2022-03-07 13:45:00')"
      ]
     },
     "execution_count": 23,
     "metadata": {},
     "output_type": "execute_result"
    }
   ],
   "source": [
    "start_h0"
   ]
  },
  {
   "cell_type": "code",
   "execution_count": null,
   "metadata": {},
   "outputs": [],
   "source": []
  },
  {
   "cell_type": "code",
   "execution_count": null,
   "metadata": {},
   "outputs": [],
   "source": []
  },
  {
   "cell_type": "markdown",
   "metadata": {},
   "source": [
    "## ESO dummy correct parse calc."
   ]
  },
  {
   "cell_type": "code",
   "execution_count": 11,
   "metadata": {},
   "outputs": [
    {
     "name": "stdout",
     "output_type": "stream",
     "text": [
      "97222.22222222222\n"
     ]
    }
   ],
   "source": [
    "dummy = 21000000\n",
    "minute = 3\n",
    "sec = 36\n",
    "time = (minute*60)+sec\n",
    "dps = dummy/time\n",
    "print(dps)"
   ]
  },
  {
   "cell_type": "code",
   "execution_count": null,
   "metadata": {},
   "outputs": [],
   "source": []
  },
  {
   "cell_type": "code",
   "execution_count": null,
   "metadata": {},
   "outputs": [],
   "source": []
  },
  {
   "cell_type": "code",
   "execution_count": null,
   "metadata": {},
   "outputs": [],
   "source": []
  },
  {
   "cell_type": "code",
   "execution_count": null,
   "metadata": {},
   "outputs": [],
   "source": []
  },
  {
   "cell_type": "code",
   "execution_count": null,
   "metadata": {},
   "outputs": [],
   "source": []
  },
  {
   "cell_type": "code",
   "execution_count": null,
   "metadata": {},
   "outputs": [],
   "source": []
  },
  {
   "cell_type": "code",
   "execution_count": null,
   "metadata": {},
   "outputs": [],
   "source": []
  },
  {
   "cell_type": "code",
   "execution_count": 5,
   "metadata": {},
   "outputs": [],
   "source": [
    "days = np.arange(5,20).astype(str).tolist()\n"
   ]
  },
  {
   "cell_type": "code",
   "execution_count": 6,
   "metadata": {
    "collapsed": true,
    "jupyter": {
     "outputs_hidden": true
    }
   },
   "outputs": [
    {
     "name": "stderr",
     "output_type": "stream",
     "text": [
      "2022-09-20 09:48:19,079 INFO Welcome to the CDS\n",
      "2022-09-20 09:48:19,080 INFO Sending request to https://cds.climate.copernicus.eu/api/v2/resources/reanalysis-era5-single-levels\n",
      "2022-09-20 09:48:21,273 INFO Request is queued\n",
      "2022-09-20 09:48:23,171 INFO Request is failed\n",
      "2022-09-20 09:48:23,172 ERROR Message: the request you have submitted is not valid\n",
      "2022-09-20 09:48:23,172 ERROR Reason:  Mars server task finished in error; UserError: Restricted access to ERA5T. Please, check that your date selection is valid. For more information, visit https://climate.copernicus.eu/climate-reanalysis [mars]; Error code is -2; Request failed; Some errors reported (last error -2)\n",
      "2022-09-20 09:48:23,173 ERROR   Traceback (most recent call last):\n",
      "2022-09-20 09:48:23,174 ERROR     File \"/opt/cdstoolbox/cdscompute/cdscompute/cdshandlers/services/handler.py\", line 59, in handle_request\n",
      "2022-09-20 09:48:23,174 ERROR       result = cached(context.method, proc, context, context.args, context.kwargs)\n",
      "2022-09-20 09:48:23,175 ERROR     File \"/opt/cdstoolbox/cdscompute/cdscompute/caching.py\", line 108, in cached\n",
      "2022-09-20 09:48:23,176 ERROR       result = proc(context, *context.args, **context.kwargs)\n",
      "2022-09-20 09:48:23,176 ERROR     File \"/opt/cdstoolbox/cdscompute/cdscompute/services.py\", line 124, in __call__\n",
      "2022-09-20 09:48:23,176 ERROR       return p(*args, **kwargs)\n",
      "2022-09-20 09:48:23,177 ERROR     File \"/opt/cdstoolbox/cdscompute/cdscompute/services.py\", line 60, in __call__\n",
      "2022-09-20 09:48:23,178 ERROR       return self.proc(context, *args, **kwargs)\n",
      "2022-09-20 09:48:23,178 ERROR     File \"/home/cds/cdsservices/services/mars/mars.py\", line 47, in internal\n",
      "2022-09-20 09:48:23,179 ERROR       return mars(context, request, **kwargs)\n",
      "2022-09-20 09:48:23,179 ERROR     File \"/home/cds/cdsservices/services/mars/mars.py\", line 19, in mars\n",
      "2022-09-20 09:48:23,179 ERROR       execute_mars(context, requests)\n",
      "2022-09-20 09:48:23,180 ERROR     File \"/home/cds/cdsservices/services/mars/execute_mars.py\", line 18, in execute_mars\n",
      "2022-09-20 09:48:23,180 ERROR       context.run_command(\"/usr/local/bin/mars\", tmp, exception=MarsException)\n",
      "2022-09-20 09:48:23,181 ERROR     File \"/opt/cdstoolbox/cdscompute/cdscompute/context.py\", line 209, in run_command\n",
      "2022-09-20 09:48:23,181 ERROR       raise exception(call, proc.returncode, output)\n",
      "2022-09-20 09:48:23,182 ERROR   home.cds.cdsservices.services.mars.__init__.py.exceptions.MarsException: Mars server task finished in error; UserError: Restricted access to ERA5T. Please, check that your date selection is valid. For more information, visit https://climate.copernicus.eu/climate-reanalysis [mars]; Error code is -2; Request failed; Some errors reported (last error -2)\n"
     ]
    },
    {
     "ename": "Exception",
     "evalue": "the request you have submitted is not valid. Mars server task finished in error; UserError: Restricted access to ERA5T. Please, check that your date selection is valid. For more information, visit https://climate.copernicus.eu/climate-reanalysis [mars]; Error code is -2; Request failed; Some errors reported (last error -2).",
     "output_type": "error",
     "traceback": [
      "\u001b[0;31m---------------------------------------------------------------------------\u001b[0m",
      "\u001b[0;31mException\u001b[0m                                 Traceback (most recent call last)",
      "\u001b[0;32m<ipython-input-6-79495eeea04d>\u001b[0m in \u001b[0;36m<module>\u001b[0;34m\u001b[0m\n\u001b[1;32m     20\u001b[0m         \u001b[0;34m'time'\u001b[0m\u001b[0;34m:\u001b[0m \u001b[0mtime\u001b[0m\u001b[0;34m,\u001b[0m\u001b[0;34m\u001b[0m\u001b[0;34m\u001b[0m\u001b[0m\n\u001b[1;32m     21\u001b[0m     },\n\u001b[0;32m---> 22\u001b[0;31m     'download.grib')\n\u001b[0m",
      "\u001b[0;32m~/miniconda3/envs/general/lib/python3.7/site-packages/cdsapi/api.py\u001b[0m in \u001b[0;36mretrieve\u001b[0;34m(self, name, request, target)\u001b[0m\n\u001b[1;32m    315\u001b[0m \u001b[0;34m\u001b[0m\u001b[0m\n\u001b[1;32m    316\u001b[0m     \u001b[0;32mdef\u001b[0m \u001b[0mretrieve\u001b[0m\u001b[0;34m(\u001b[0m\u001b[0mself\u001b[0m\u001b[0;34m,\u001b[0m \u001b[0mname\u001b[0m\u001b[0;34m,\u001b[0m \u001b[0mrequest\u001b[0m\u001b[0;34m,\u001b[0m \u001b[0mtarget\u001b[0m\u001b[0;34m=\u001b[0m\u001b[0;32mNone\u001b[0m\u001b[0;34m)\u001b[0m\u001b[0;34m:\u001b[0m\u001b[0;34m\u001b[0m\u001b[0;34m\u001b[0m\u001b[0m\n\u001b[0;32m--> 317\u001b[0;31m         \u001b[0mresult\u001b[0m \u001b[0;34m=\u001b[0m \u001b[0mself\u001b[0m\u001b[0;34m.\u001b[0m\u001b[0m_api\u001b[0m\u001b[0;34m(\u001b[0m\u001b[0;34m'%s/resources/%s'\u001b[0m \u001b[0;34m%\u001b[0m \u001b[0;34m(\u001b[0m\u001b[0mself\u001b[0m\u001b[0;34m.\u001b[0m\u001b[0murl\u001b[0m\u001b[0;34m,\u001b[0m \u001b[0mname\u001b[0m\u001b[0;34m)\u001b[0m\u001b[0;34m,\u001b[0m \u001b[0mrequest\u001b[0m\u001b[0;34m,\u001b[0m \u001b[0;34m'POST'\u001b[0m\u001b[0;34m)\u001b[0m\u001b[0;34m\u001b[0m\u001b[0;34m\u001b[0m\u001b[0m\n\u001b[0m\u001b[1;32m    318\u001b[0m         \u001b[0;32mif\u001b[0m \u001b[0mtarget\u001b[0m \u001b[0;32mis\u001b[0m \u001b[0;32mnot\u001b[0m \u001b[0;32mNone\u001b[0m\u001b[0;34m:\u001b[0m\u001b[0;34m\u001b[0m\u001b[0;34m\u001b[0m\u001b[0m\n\u001b[1;32m    319\u001b[0m             \u001b[0mresult\u001b[0m\u001b[0;34m.\u001b[0m\u001b[0mdownload\u001b[0m\u001b[0;34m(\u001b[0m\u001b[0mtarget\u001b[0m\u001b[0;34m)\u001b[0m\u001b[0;34m\u001b[0m\u001b[0;34m\u001b[0m\u001b[0m\n",
      "\u001b[0;32m~/miniconda3/envs/general/lib/python3.7/site-packages/cdsapi/api.py\u001b[0m in \u001b[0;36m_api\u001b[0;34m(self, url, request, method)\u001b[0m\n\u001b[1;32m    456\u001b[0m                         \u001b[0;32mbreak\u001b[0m\u001b[0;34m\u001b[0m\u001b[0;34m\u001b[0m\u001b[0m\n\u001b[1;32m    457\u001b[0m                     \u001b[0mself\u001b[0m\u001b[0;34m.\u001b[0m\u001b[0merror\u001b[0m\u001b[0;34m(\u001b[0m\u001b[0;34m\"  %s\"\u001b[0m\u001b[0;34m,\u001b[0m \u001b[0mn\u001b[0m\u001b[0;34m)\u001b[0m\u001b[0;34m\u001b[0m\u001b[0;34m\u001b[0m\u001b[0m\n\u001b[0;32m--> 458\u001b[0;31m                 \u001b[0;32mraise\u001b[0m \u001b[0mException\u001b[0m\u001b[0;34m(\u001b[0m\u001b[0;34m\"%s. %s.\"\u001b[0m \u001b[0;34m%\u001b[0m \u001b[0;34m(\u001b[0m\u001b[0mreply\u001b[0m\u001b[0;34m[\u001b[0m\u001b[0;34m'error'\u001b[0m\u001b[0;34m]\u001b[0m\u001b[0;34m.\u001b[0m\u001b[0mget\u001b[0m\u001b[0;34m(\u001b[0m\u001b[0;34m'message'\u001b[0m\u001b[0;34m)\u001b[0m\u001b[0;34m,\u001b[0m \u001b[0mreply\u001b[0m\u001b[0;34m[\u001b[0m\u001b[0;34m'error'\u001b[0m\u001b[0;34m]\u001b[0m\u001b[0;34m.\u001b[0m\u001b[0mget\u001b[0m\u001b[0;34m(\u001b[0m\u001b[0;34m'reason'\u001b[0m\u001b[0;34m)\u001b[0m\u001b[0;34m)\u001b[0m\u001b[0;34m)\u001b[0m\u001b[0;34m\u001b[0m\u001b[0;34m\u001b[0m\u001b[0m\n\u001b[0m\u001b[1;32m    459\u001b[0m \u001b[0;34m\u001b[0m\u001b[0m\n\u001b[1;32m    460\u001b[0m             \u001b[0;32mraise\u001b[0m \u001b[0mException\u001b[0m\u001b[0;34m(\u001b[0m\u001b[0;34m'Unknown API state [%s]'\u001b[0m \u001b[0;34m%\u001b[0m \u001b[0;34m(\u001b[0m\u001b[0mreply\u001b[0m\u001b[0;34m[\u001b[0m\u001b[0;34m'state'\u001b[0m\u001b[0;34m]\u001b[0m\u001b[0;34m,\u001b[0m\u001b[0;34m)\u001b[0m\u001b[0;34m)\u001b[0m\u001b[0;34m\u001b[0m\u001b[0;34m\u001b[0m\u001b[0m\n",
      "\u001b[0;31mException\u001b[0m: the request you have submitted is not valid. Mars server task finished in error; UserError: Restricted access to ERA5T. Please, check that your date selection is valid. For more information, visit https://climate.copernicus.eu/climate-reanalysis [mars]; Error code is -2; Request failed; Some errors reported (last error -2)."
     ]
    }
   ],
   "source": [
    "time = ['00:00', '01:00', '02:00','03:00', '04:00', '05:00',\n",
    "        '06:00', '07:00', '08:00','09:00', '10:00', '11:00',\n",
    "        '12:00', '13:00', '14:00','15:00', '16:00', '17:00',\n",
    "        '18:00', '19:00', '20:00','21:00', '22:00', '23:00',]\n",
    "        #\n",
    "c.retrieve(\n",
    "    'reanalysis-era5-single-levels',\n",
    "    {\n",
    "        'product_type': 'reanalysis',\n",
    "        'format': 'grib',\n",
    "        'variable': [\n",
    "            '10m_u_component_of_wind',\n",
    "            '10m_v_component_of_wind',\n",
    "            'Mean_sea_level_pressure',\n",
    "            #'Sea_Ice_Concentration',\n",
    "        ],\n",
    "        'year': '2022',\n",
    "        'month': '09',\n",
    "        'day': days,\n",
    "        'time': time,\n",
    "    },\n",
    "    'download.grib')"
   ]
  },
  {
   "cell_type": "markdown",
   "metadata": {},
   "source": [
    "# 3) Converting the .grib file into .22 (NWS=6)"
   ]
  },
  {
   "cell_type": "markdown",
   "metadata": {},
   "source": [
    "Set the path to where the .grib data was saved:"
   ]
  },
  {
   "cell_type": "markdown",
   "metadata": {},
   "source": [
    "Open the .grib file:"
   ]
  },
  {
   "cell_type": "code",
   "execution_count": 4,
   "metadata": {},
   "outputs": [
    {
     "name": "stderr",
     "output_type": "stream",
     "text": [
      "2021-05-25 16:44:57,534 INFO ecCodes library found using name 'eccodes'.\n",
      "2021-05-25 16:44:57,541 WARNING Ignoring index file '/Users/tmiesse/work/libraries/adcirc-unswan/inputs/download.grib.4cc40.idx' older than GRIB file\n",
      "2021-05-25 16:45:02,361 INFO missing from GRIB stream: 'directionNumber'\n",
      "2021-05-25 16:45:02,362 INFO missing from GRIB stream: 'frequencyNumber'\n",
      "2021-05-25 16:45:02,712 INFO missing from GRIB stream: 'directionNumber'\n",
      "2021-05-25 16:45:02,713 INFO missing from GRIB stream: 'frequencyNumber'\n",
      "2021-05-25 16:45:02,943 INFO missing from GRIB stream: 'directionNumber'\n",
      "2021-05-25 16:45:02,944 INFO missing from GRIB stream: 'frequencyNumber'\n"
     ]
    }
   ],
   "source": [
    "path = pl.Path('/Users/tmiesse/work/libraries/adcirc-unswan/inputs')\n",
    "file = 'download.grib'\n",
    "grib = xr.open_dataset(path / file, engine='cfgrib')"
   ]
  },
  {
   "cell_type": "code",
   "execution_count": null,
   "metadata": {},
   "outputs": [],
   "source": []
  },
  {
   "cell_type": "code",
   "execution_count": 5,
   "metadata": {},
   "outputs": [
    {
     "data": {
      "text/plain": [
       "(200, 560)"
      ]
     },
     "execution_count": 5,
     "metadata": {},
     "output_type": "execute_result"
    }
   ],
   "source": [
    "lat1,lat2 = 40,90\n",
    "lon1,lon2 = -230, -90\n",
    "\n",
    "lat = grib.coords['latitude'].values\n",
    "lon= grib.coords['longitude'].values\n",
    "time = np.arange(0,len(grib.coords['time'][:]))\n",
    "temp = lat[(lat2>=lat) & (lat>lat1)]\n",
    "temp2 = lon[(lon2+360>=lon) & (lon>lon1+360)]\n",
    "len(temp),len(temp2)"
   ]
  },
  {
   "cell_type": "code",
   "execution_count": 6,
   "metadata": {},
   "outputs": [
    {
     "data": {
      "text/html": [
       "<div><svg style=\"position: absolute; width: 0; height: 0; overflow: hidden\">\n",
       "<defs>\n",
       "<symbol id=\"icon-database\" viewBox=\"0 0 32 32\">\n",
       "<title>Show/Hide data repr</title>\n",
       "<path d=\"M16 0c-8.837 0-16 2.239-16 5v4c0 2.761 7.163 5 16 5s16-2.239 16-5v-4c0-2.761-7.163-5-16-5z\"></path>\n",
       "<path d=\"M16 17c-8.837 0-16-2.239-16-5v6c0 2.761 7.163 5 16 5s16-2.239 16-5v-6c0 2.761-7.163 5-16 5z\"></path>\n",
       "<path d=\"M16 26c-8.837 0-16-2.239-16-5v6c0 2.761 7.163 5 16 5s16-2.239 16-5v-6c0 2.761-7.163 5-16 5z\"></path>\n",
       "</symbol>\n",
       "<symbol id=\"icon-file-text2\" viewBox=\"0 0 32 32\">\n",
       "<title>Show/Hide attributes</title>\n",
       "<path d=\"M28.681 7.159c-0.694-0.947-1.662-2.053-2.724-3.116s-2.169-2.030-3.116-2.724c-1.612-1.182-2.393-1.319-2.841-1.319h-15.5c-1.378 0-2.5 1.121-2.5 2.5v27c0 1.378 1.122 2.5 2.5 2.5h23c1.378 0 2.5-1.122 2.5-2.5v-19.5c0-0.448-0.137-1.23-1.319-2.841zM24.543 5.457c0.959 0.959 1.712 1.825 2.268 2.543h-4.811v-4.811c0.718 0.556 1.584 1.309 2.543 2.268zM28 29.5c0 0.271-0.229 0.5-0.5 0.5h-23c-0.271 0-0.5-0.229-0.5-0.5v-27c0-0.271 0.229-0.5 0.5-0.5 0 0 15.499-0 15.5 0v7c0 0.552 0.448 1 1 1h7v19.5z\"></path>\n",
       "<path d=\"M23 26h-14c-0.552 0-1-0.448-1-1s0.448-1 1-1h14c0.552 0 1 0.448 1 1s-0.448 1-1 1z\"></path>\n",
       "<path d=\"M23 22h-14c-0.552 0-1-0.448-1-1s0.448-1 1-1h14c0.552 0 1 0.448 1 1s-0.448 1-1 1z\"></path>\n",
       "<path d=\"M23 18h-14c-0.552 0-1-0.448-1-1s0.448-1 1-1h14c0.552 0 1 0.448 1 1s-0.448 1-1 1z\"></path>\n",
       "</symbol>\n",
       "</defs>\n",
       "</svg>\n",
       "<style>/* CSS stylesheet for displaying xarray objects in jupyterlab.\n",
       " *\n",
       " */\n",
       "\n",
       ":root {\n",
       "  --xr-font-color0: var(--jp-content-font-color0, rgba(0, 0, 0, 1));\n",
       "  --xr-font-color2: var(--jp-content-font-color2, rgba(0, 0, 0, 0.54));\n",
       "  --xr-font-color3: var(--jp-content-font-color3, rgba(0, 0, 0, 0.38));\n",
       "  --xr-border-color: var(--jp-border-color2, #e0e0e0);\n",
       "  --xr-disabled-color: var(--jp-layout-color3, #bdbdbd);\n",
       "  --xr-background-color: var(--jp-layout-color0, white);\n",
       "  --xr-background-color-row-even: var(--jp-layout-color1, white);\n",
       "  --xr-background-color-row-odd: var(--jp-layout-color2, #eeeeee);\n",
       "}\n",
       "\n",
       ".xr-wrap {\n",
       "  min-width: 300px;\n",
       "  max-width: 700px;\n",
       "}\n",
       "\n",
       ".xr-header {\n",
       "  padding-top: 6px;\n",
       "  padding-bottom: 6px;\n",
       "  margin-bottom: 4px;\n",
       "  border-bottom: solid 1px var(--xr-border-color);\n",
       "}\n",
       "\n",
       ".xr-header > div,\n",
       ".xr-header > ul {\n",
       "  display: inline;\n",
       "  margin-top: 0;\n",
       "  margin-bottom: 0;\n",
       "}\n",
       "\n",
       ".xr-obj-type,\n",
       ".xr-array-name {\n",
       "  margin-left: 2px;\n",
       "  margin-right: 10px;\n",
       "}\n",
       "\n",
       ".xr-obj-type {\n",
       "  color: var(--xr-font-color2);\n",
       "}\n",
       "\n",
       ".xr-sections {\n",
       "  padding-left: 0 !important;\n",
       "  display: grid;\n",
       "  grid-template-columns: 150px auto auto 1fr 20px 20px;\n",
       "}\n",
       "\n",
       ".xr-section-item {\n",
       "  display: contents;\n",
       "}\n",
       "\n",
       ".xr-section-item input {\n",
       "  display: none;\n",
       "}\n",
       "\n",
       ".xr-section-item input + label {\n",
       "  color: var(--xr-disabled-color);\n",
       "}\n",
       "\n",
       ".xr-section-item input:enabled + label {\n",
       "  cursor: pointer;\n",
       "  color: var(--xr-font-color2);\n",
       "}\n",
       "\n",
       ".xr-section-item input:enabled + label:hover {\n",
       "  color: var(--xr-font-color0);\n",
       "}\n",
       "\n",
       ".xr-section-summary {\n",
       "  grid-column: 1;\n",
       "  color: var(--xr-font-color2);\n",
       "  font-weight: 500;\n",
       "}\n",
       "\n",
       ".xr-section-summary > span {\n",
       "  display: inline-block;\n",
       "  padding-left: 0.5em;\n",
       "}\n",
       "\n",
       ".xr-section-summary-in:disabled + label {\n",
       "  color: var(--xr-font-color2);\n",
       "}\n",
       "\n",
       ".xr-section-summary-in + label:before {\n",
       "  display: inline-block;\n",
       "  content: '►';\n",
       "  font-size: 11px;\n",
       "  width: 15px;\n",
       "  text-align: center;\n",
       "}\n",
       "\n",
       ".xr-section-summary-in:disabled + label:before {\n",
       "  color: var(--xr-disabled-color);\n",
       "}\n",
       "\n",
       ".xr-section-summary-in:checked + label:before {\n",
       "  content: '▼';\n",
       "}\n",
       "\n",
       ".xr-section-summary-in:checked + label > span {\n",
       "  display: none;\n",
       "}\n",
       "\n",
       ".xr-section-summary,\n",
       ".xr-section-inline-details {\n",
       "  padding-top: 4px;\n",
       "  padding-bottom: 4px;\n",
       "}\n",
       "\n",
       ".xr-section-inline-details {\n",
       "  grid-column: 2 / -1;\n",
       "}\n",
       "\n",
       ".xr-section-details {\n",
       "  display: none;\n",
       "  grid-column: 1 / -1;\n",
       "  margin-bottom: 5px;\n",
       "}\n",
       "\n",
       ".xr-section-summary-in:checked ~ .xr-section-details {\n",
       "  display: contents;\n",
       "}\n",
       "\n",
       ".xr-array-wrap {\n",
       "  grid-column: 1 / -1;\n",
       "  display: grid;\n",
       "  grid-template-columns: 20px auto;\n",
       "}\n",
       "\n",
       ".xr-array-wrap > label {\n",
       "  grid-column: 1;\n",
       "  vertical-align: top;\n",
       "}\n",
       "\n",
       ".xr-preview {\n",
       "  color: var(--xr-font-color3);\n",
       "}\n",
       "\n",
       ".xr-array-preview,\n",
       ".xr-array-data {\n",
       "  padding: 0 5px !important;\n",
       "  grid-column: 2;\n",
       "}\n",
       "\n",
       ".xr-array-data,\n",
       ".xr-array-in:checked ~ .xr-array-preview {\n",
       "  display: none;\n",
       "}\n",
       "\n",
       ".xr-array-in:checked ~ .xr-array-data,\n",
       ".xr-array-preview {\n",
       "  display: inline-block;\n",
       "}\n",
       "\n",
       ".xr-dim-list {\n",
       "  display: inline-block !important;\n",
       "  list-style: none;\n",
       "  padding: 0 !important;\n",
       "  margin: 0;\n",
       "}\n",
       "\n",
       ".xr-dim-list li {\n",
       "  display: inline-block;\n",
       "  padding: 0;\n",
       "  margin: 0;\n",
       "}\n",
       "\n",
       ".xr-dim-list:before {\n",
       "  content: '(';\n",
       "}\n",
       "\n",
       ".xr-dim-list:after {\n",
       "  content: ')';\n",
       "}\n",
       "\n",
       ".xr-dim-list li:not(:last-child):after {\n",
       "  content: ',';\n",
       "  padding-right: 5px;\n",
       "}\n",
       "\n",
       ".xr-has-index {\n",
       "  font-weight: bold;\n",
       "}\n",
       "\n",
       ".xr-var-list,\n",
       ".xr-var-item {\n",
       "  display: contents;\n",
       "}\n",
       "\n",
       ".xr-var-item > div,\n",
       ".xr-var-item label,\n",
       ".xr-var-item > .xr-var-name span {\n",
       "  background-color: var(--xr-background-color-row-even);\n",
       "  margin-bottom: 0;\n",
       "}\n",
       "\n",
       ".xr-var-item > .xr-var-name:hover span {\n",
       "  padding-right: 5px;\n",
       "}\n",
       "\n",
       ".xr-var-list > li:nth-child(odd) > div,\n",
       ".xr-var-list > li:nth-child(odd) > label,\n",
       ".xr-var-list > li:nth-child(odd) > .xr-var-name span {\n",
       "  background-color: var(--xr-background-color-row-odd);\n",
       "}\n",
       "\n",
       ".xr-var-name {\n",
       "  grid-column: 1;\n",
       "}\n",
       "\n",
       ".xr-var-dims {\n",
       "  grid-column: 2;\n",
       "}\n",
       "\n",
       ".xr-var-dtype {\n",
       "  grid-column: 3;\n",
       "  text-align: right;\n",
       "  color: var(--xr-font-color2);\n",
       "}\n",
       "\n",
       ".xr-var-preview {\n",
       "  grid-column: 4;\n",
       "}\n",
       "\n",
       ".xr-var-name,\n",
       ".xr-var-dims,\n",
       ".xr-var-dtype,\n",
       ".xr-preview,\n",
       ".xr-attrs dt {\n",
       "  white-space: nowrap;\n",
       "  overflow: hidden;\n",
       "  text-overflow: ellipsis;\n",
       "  padding-right: 10px;\n",
       "}\n",
       "\n",
       ".xr-var-name:hover,\n",
       ".xr-var-dims:hover,\n",
       ".xr-var-dtype:hover,\n",
       ".xr-attrs dt:hover {\n",
       "  overflow: visible;\n",
       "  width: auto;\n",
       "  z-index: 1;\n",
       "}\n",
       "\n",
       ".xr-var-attrs,\n",
       ".xr-var-data {\n",
       "  display: none;\n",
       "  background-color: var(--xr-background-color) !important;\n",
       "  padding-bottom: 5px !important;\n",
       "}\n",
       "\n",
       ".xr-var-attrs-in:checked ~ .xr-var-attrs,\n",
       ".xr-var-data-in:checked ~ .xr-var-data {\n",
       "  display: block;\n",
       "}\n",
       "\n",
       ".xr-var-data > table {\n",
       "  float: right;\n",
       "}\n",
       "\n",
       ".xr-var-name span,\n",
       ".xr-var-data,\n",
       ".xr-attrs {\n",
       "  padding-left: 25px !important;\n",
       "}\n",
       "\n",
       ".xr-attrs,\n",
       ".xr-var-attrs,\n",
       ".xr-var-data {\n",
       "  grid-column: 1 / -1;\n",
       "}\n",
       "\n",
       "dl.xr-attrs {\n",
       "  padding: 0;\n",
       "  margin: 0;\n",
       "  display: grid;\n",
       "  grid-template-columns: 125px auto;\n",
       "}\n",
       "\n",
       ".xr-attrs dt, dd {\n",
       "  padding: 0;\n",
       "  margin: 0;\n",
       "  float: left;\n",
       "  padding-right: 10px;\n",
       "  width: auto;\n",
       "}\n",
       "\n",
       ".xr-attrs dt {\n",
       "  font-weight: normal;\n",
       "  grid-column: 1;\n",
       "}\n",
       "\n",
       ".xr-attrs dt:hover span {\n",
       "  display: inline-block;\n",
       "  background: var(--xr-background-color);\n",
       "  padding-right: 10px;\n",
       "}\n",
       "\n",
       ".xr-attrs dd {\n",
       "  grid-column: 2;\n",
       "  white-space: pre-wrap;\n",
       "  word-break: break-all;\n",
       "}\n",
       "\n",
       ".xr-icon-database,\n",
       ".xr-icon-file-text2 {\n",
       "  display: inline-block;\n",
       "  vertical-align: middle;\n",
       "  width: 1em;\n",
       "  height: 1.5em !important;\n",
       "  stroke-width: 0;\n",
       "  stroke: currentColor;\n",
       "  fill: currentColor;\n",
       "}\n",
       "</style><div class='xr-wrap'><div class='xr-header'><div class='xr-obj-type'>xarray.DataArray</div><div class='xr-array-name'>'time'</div><ul class='xr-dim-list'><li><span class='xr-has-index'>time</span>: 228</li></ul></div><ul class='xr-sections'><li class='xr-section-item'><div class='xr-array-wrap'><input id='section-66d31095-c73f-4434-82bb-42e8080386fa' class='xr-array-in' type='checkbox' ><label for='section-66d31095-c73f-4434-82bb-42e8080386fa' title='Show/hide data repr'><svg class='icon xr-icon-database'><use xlink:href='#icon-database'></use></svg></label><div class='xr-array-preview xr-preview'><span>2011-11-01 2011-11-01T02:00:00 ... 2011-11-19T22:00:00</span></div><pre class='xr-array-data'>array([&#x27;2011-11-01T00:00:00.000000000&#x27;, &#x27;2011-11-01T02:00:00.000000000&#x27;,\n",
       "       &#x27;2011-11-01T04:00:00.000000000&#x27;, ..., &#x27;2011-11-19T18:00:00.000000000&#x27;,\n",
       "       &#x27;2011-11-19T20:00:00.000000000&#x27;, &#x27;2011-11-19T22:00:00.000000000&#x27;],\n",
       "      dtype=&#x27;datetime64[ns]&#x27;)</pre></div></li><li class='xr-section-item'><input id='section-5e3ba378-0ee7-429c-9dbe-d0669fec8c36' class='xr-section-summary-in' type='checkbox'  checked><label for='section-5e3ba378-0ee7-429c-9dbe-d0669fec8c36' class='xr-section-summary' >Coordinates: <span>(5)</span></label><div class='xr-section-inline-details'></div><div class='xr-section-details'><ul class='xr-var-list'><li class='xr-var-item'><div class='xr-var-name'><span>number</span></div><div class='xr-var-dims'>()</div><div class='xr-var-dtype'>int64</div><div class='xr-var-preview xr-preview'>...</div><input id='attrs-cffebb8a-1d32-4a5a-8255-55c8b07452fa' class='xr-var-attrs-in' type='checkbox' ><label for='attrs-cffebb8a-1d32-4a5a-8255-55c8b07452fa' title='Show/Hide attributes'><svg class='icon xr-icon-file-text2'><use xlink:href='#icon-file-text2'></use></svg></label><input id='data-9a792554-89b6-41b7-8595-84a39bf84007' class='xr-var-data-in' type='checkbox'><label for='data-9a792554-89b6-41b7-8595-84a39bf84007' title='Show/Hide data repr'><svg class='icon xr-icon-database'><use xlink:href='#icon-database'></use></svg></label><div class='xr-var-attrs'><dl class='xr-attrs'><dt><span>long_name :</span></dt><dd>ensemble member numerical id</dd><dt><span>units :</span></dt><dd>1</dd><dt><span>standard_name :</span></dt><dd>realization</dd></dl></div><pre class='xr-var-data'>array(0)</pre></li><li class='xr-var-item'><div class='xr-var-name'><span class='xr-has-index'>time</span></div><div class='xr-var-dims'>(time)</div><div class='xr-var-dtype'>datetime64[ns]</div><div class='xr-var-preview xr-preview'>2011-11-01 ... 2011-11-19T22:00:00</div><input id='attrs-d3628cc6-fa4b-41d5-98ff-ccc3bb5d133d' class='xr-var-attrs-in' type='checkbox' ><label for='attrs-d3628cc6-fa4b-41d5-98ff-ccc3bb5d133d' title='Show/Hide attributes'><svg class='icon xr-icon-file-text2'><use xlink:href='#icon-file-text2'></use></svg></label><input id='data-1f58d649-61a8-4026-b293-c27f214c1160' class='xr-var-data-in' type='checkbox'><label for='data-1f58d649-61a8-4026-b293-c27f214c1160' title='Show/Hide data repr'><svg class='icon xr-icon-database'><use xlink:href='#icon-database'></use></svg></label><div class='xr-var-attrs'><dl class='xr-attrs'><dt><span>long_name :</span></dt><dd>initial time of forecast</dd><dt><span>standard_name :</span></dt><dd>forecast_reference_time</dd></dl></div><pre class='xr-var-data'>array([&#x27;2011-11-01T00:00:00.000000000&#x27;, &#x27;2011-11-01T02:00:00.000000000&#x27;,\n",
       "       &#x27;2011-11-01T04:00:00.000000000&#x27;, ..., &#x27;2011-11-19T18:00:00.000000000&#x27;,\n",
       "       &#x27;2011-11-19T20:00:00.000000000&#x27;, &#x27;2011-11-19T22:00:00.000000000&#x27;],\n",
       "      dtype=&#x27;datetime64[ns]&#x27;)</pre></li><li class='xr-var-item'><div class='xr-var-name'><span>step</span></div><div class='xr-var-dims'>()</div><div class='xr-var-dtype'>timedelta64[ns]</div><div class='xr-var-preview xr-preview'>...</div><input id='attrs-4643563e-24ee-44ff-802a-375d026e6415' class='xr-var-attrs-in' type='checkbox' ><label for='attrs-4643563e-24ee-44ff-802a-375d026e6415' title='Show/Hide attributes'><svg class='icon xr-icon-file-text2'><use xlink:href='#icon-file-text2'></use></svg></label><input id='data-2f55955d-e7b1-4d98-b3a9-89bd8095049e' class='xr-var-data-in' type='checkbox'><label for='data-2f55955d-e7b1-4d98-b3a9-89bd8095049e' title='Show/Hide data repr'><svg class='icon xr-icon-database'><use xlink:href='#icon-database'></use></svg></label><div class='xr-var-attrs'><dl class='xr-attrs'><dt><span>long_name :</span></dt><dd>time since forecast_reference_time</dd><dt><span>standard_name :</span></dt><dd>forecast_period</dd></dl></div><pre class='xr-var-data'>array(0, dtype=&#x27;timedelta64[ns]&#x27;)</pre></li><li class='xr-var-item'><div class='xr-var-name'><span>surface</span></div><div class='xr-var-dims'>()</div><div class='xr-var-dtype'>int64</div><div class='xr-var-preview xr-preview'>...</div><input id='attrs-0a6070d6-c930-484d-ae04-9207eb5ceed7' class='xr-var-attrs-in' type='checkbox' ><label for='attrs-0a6070d6-c930-484d-ae04-9207eb5ceed7' title='Show/Hide attributes'><svg class='icon xr-icon-file-text2'><use xlink:href='#icon-file-text2'></use></svg></label><input id='data-146fdf16-4727-4249-bab0-039c57c80d9d' class='xr-var-data-in' type='checkbox'><label for='data-146fdf16-4727-4249-bab0-039c57c80d9d' title='Show/Hide data repr'><svg class='icon xr-icon-database'><use xlink:href='#icon-database'></use></svg></label><div class='xr-var-attrs'><dl class='xr-attrs'><dt><span>long_name :</span></dt><dd>original GRIB coordinate for key: level(surface)</dd><dt><span>units :</span></dt><dd>1</dd></dl></div><pre class='xr-var-data'>array(0)</pre></li><li class='xr-var-item'><div class='xr-var-name'><span>valid_time</span></div><div class='xr-var-dims'>(time)</div><div class='xr-var-dtype'>datetime64[ns]</div><div class='xr-var-preview xr-preview'>...</div><input id='attrs-650cf23b-6953-4bdb-8807-0134811e0168' class='xr-var-attrs-in' type='checkbox' ><label for='attrs-650cf23b-6953-4bdb-8807-0134811e0168' title='Show/Hide attributes'><svg class='icon xr-icon-file-text2'><use xlink:href='#icon-file-text2'></use></svg></label><input id='data-dd0c56d3-56f8-4089-b801-3af2bd4be652' class='xr-var-data-in' type='checkbox'><label for='data-dd0c56d3-56f8-4089-b801-3af2bd4be652' title='Show/Hide data repr'><svg class='icon xr-icon-database'><use xlink:href='#icon-database'></use></svg></label><div class='xr-var-attrs'><dl class='xr-attrs'><dt><span>standard_name :</span></dt><dd>time</dd><dt><span>long_name :</span></dt><dd>time</dd></dl></div><pre class='xr-var-data'>array([&#x27;2011-11-01T00:00:00.000000000&#x27;, &#x27;2011-11-01T02:00:00.000000000&#x27;,\n",
       "       &#x27;2011-11-01T04:00:00.000000000&#x27;, ..., &#x27;2011-11-19T18:00:00.000000000&#x27;,\n",
       "       &#x27;2011-11-19T20:00:00.000000000&#x27;, &#x27;2011-11-19T22:00:00.000000000&#x27;],\n",
       "      dtype=&#x27;datetime64[ns]&#x27;)</pre></li></ul></div></li><li class='xr-section-item'><input id='section-1bf927a0-fe1d-41af-8580-93bdb7b8183a' class='xr-section-summary-in' type='checkbox'  checked><label for='section-1bf927a0-fe1d-41af-8580-93bdb7b8183a' class='xr-section-summary' >Attributes: <span>(2)</span></label><div class='xr-section-inline-details'></div><div class='xr-section-details'><dl class='xr-attrs'><dt><span>long_name :</span></dt><dd>initial time of forecast</dd><dt><span>standard_name :</span></dt><dd>forecast_reference_time</dd></dl></div></li></ul></div></div>"
      ],
      "text/plain": [
       "<xarray.DataArray 'time' (time: 228)>\n",
       "array(['2011-11-01T00:00:00.000000000', '2011-11-01T02:00:00.000000000',\n",
       "       '2011-11-01T04:00:00.000000000', ..., '2011-11-19T18:00:00.000000000',\n",
       "       '2011-11-19T20:00:00.000000000', '2011-11-19T22:00:00.000000000'],\n",
       "      dtype='datetime64[ns]')\n",
       "Coordinates:\n",
       "    number      int64 ...\n",
       "  * time        (time) datetime64[ns] 2011-11-01 ... 2011-11-19T22:00:00\n",
       "    step        timedelta64[ns] ...\n",
       "    surface     int64 ...\n",
       "    valid_time  (time) datetime64[ns] ...\n",
       "Attributes:\n",
       "    long_name:      initial time of forecast\n",
       "    standard_name:  forecast_reference_time"
      ]
     },
     "execution_count": 6,
     "metadata": {},
     "output_type": "execute_result"
    }
   ],
   "source": [
    "grib.coords['time'][:]"
   ]
  },
  {
   "cell_type": "code",
   "execution_count": 5,
   "metadata": {},
   "outputs": [
    {
     "data": {
      "text/plain": [
       "0.25"
      ]
     },
     "execution_count": 5,
     "metadata": {},
     "output_type": "execute_result"
    }
   ],
   "source": [
    "lat[0]-lat[1]"
   ]
  },
  {
   "cell_type": "code",
   "execution_count": 8,
   "metadata": {},
   "outputs": [
    {
     "data": {
      "text/plain": [
       "(200, 560)"
      ]
     },
     "execution_count": 8,
     "metadata": {},
     "output_type": "execute_result"
    }
   ],
   "source": [
    "lat1,lat2 = 40,90\n",
    "lon1,lon2 = -230, -90\n",
    "\n",
    "lat = grib.coords['latitude'].values\n",
    "lon= grib.coords['longitude'].values\n",
    "time = np.arange(0,len(grib.coords['time'][:]))\n",
    "\n",
    "#lat1,lat2 = 7,60\n",
    "#lon1,lon2 = -100, -58\n",
    "\n",
    "#lat = grib.coords['latitude'].values\n",
    "#lon= grib.coords['longitude'].values\n",
    "#time = np.arange(0,len(grib.coords['time'][:]))\n",
    "\n",
    "\n",
    "temp,y,x = u.shape\n",
    "u2,v2,p2 = [],[],[]\n",
    "datay,datax = [], []\n",
    "for t in time:\n",
    "    for i in range(0,y):\n",
    "        for ii in range(0,x):\n",
    "            if (lat2>=lat[i]>lat1) and ((lon2+360)>=lon[ii]>(lon1+360)):\n",
    "                u2.append(np.round(u[t,i,ii],3))\n",
    "                v2.append(np.round(v[t,i,ii],3))\n",
    "                p2.append(prmsl[t,i,ii])\n",
    "                datay.append(i)\n",
    "                datax.append(ii)\n",
    "\n",
    "df = pd.DataFrame({'u':np.round(u2,2),'v':np.round(v2,2),'p':np.round(p2,2)})\n",
    "df.to_csv('fort201510.22', sep='\\t',index=False,header = False)  \n",
    "\n",
    "temp = lat[(lat2>=lat) & (lat>lat1)]\n",
    "temp2 = lon[(lon2+360>=lon) & (lon>lon1+360)]\n",
    "len(temp),len(temp2)"
   ]
  },
  {
   "cell_type": "code",
   "execution_count": 5,
   "metadata": {},
   "outputs": [],
   "source": [
    "def find_columns(data):\n",
    "    data2 = []\n",
    "    for f in data.split(' '):\n",
    "        if f != '':\n",
    "            data2.append(f)   \n",
    "    return data2"
   ]
  },
  {
   "cell_type": "code",
   "execution_count": 6,
   "metadata": {},
   "outputs": [],
   "source": [
    "def f13_header(path,nodes,attributes:list,title='Spatial attributes description \\n'):\n",
    "    with open(pl.Path(path)/'fort.13','w') as fout:\n",
    "        fout.write(title)\n",
    "        fout.write(str(nodes)+'\\n')\n",
    "    \n",
    "        for a in attributes:\n",
    "            if 'mannings_n_at_sea_floor' in a:\n",
    "                units = 'meters'\n",
    "                nvalues = '1'\n",
    "                default = '{:e}'.format(0.02)\n",
    "            elif 'primitive_weighting_in_continuity_equation' in a:\n",
    "                units = 'unitless'\n",
    "                nvalues = '1'\n",
    "                default = '{:e}'.format(0.03)\n",
    "            elif 'surface_canopy_coefficient' in a:\n",
    "                units = 'unitless'\n",
    "                nvalues = '1'\n",
    "                default = '{:e}'.format(1)                \n",
    "            elif 'surface_directional_effective_roughness_length' in a:\n",
    "                units = 'meters'\n",
    "                nvalues = '12'\n",
    "                default = '{:e} {:e} {:e} {:e} {:e} {:e} {:e} {:e} {:e} {:e} {:e} {:e}'.format(0,0,0,0,0,0,0,0,0,0,0,0)\n",
    "                \n",
    "            fout.write(a + '\\n')\n",
    "            fout.write(units+'\\n')\n",
    "            fout.write(nvalues+'\\n')\n",
    "            fout.write(default+'\\n')      \n",
    "    return print('generated fort.13')"
   ]
  },
  {
   "cell_type": "code",
   "execution_count": 9,
   "metadata": {},
   "outputs": [],
   "source": [
    "file = nc4.Dataset('/Users/tmiesse/work/FHRL/arctic/model/high_tidal_062020/maxele.63.nc')"
   ]
  },
  {
   "cell_type": "code",
   "execution_count": 36,
   "metadata": {},
   "outputs": [],
   "source": [
    "lat = grib.coords['latitude'].values\n",
    "lon= grib.coords['longitude'].values-180\n",
    "lons = [data-360 if (data>=0) else data for data in lon[:]]\n",
    "time = grib.coords['time'].values[:]\n",
    "sea_ice = grib.data_vars['siconc'].values[:]"
   ]
  },
  {
   "cell_type": "code",
   "execution_count": 12,
   "metadata": {},
   "outputs": [
    {
     "ename": "KeyError",
     "evalue": "'nodes'",
     "output_type": "error",
     "traceback": [
      "\u001b[0;31m---------------------------------------------------------------------------\u001b[0m",
      "\u001b[0;31mKeyError\u001b[0m                                  Traceback (most recent call last)",
      "\u001b[0;32m<ipython-input-12-e5439cabaa45>\u001b[0m in \u001b[0;36m<module>\u001b[0;34m\u001b[0m\n\u001b[0;32m----> 1\u001b[0;31m \u001b[0mfile\u001b[0m\u001b[0;34m.\u001b[0m\u001b[0mvariables\u001b[0m\u001b[0;34m[\u001b[0m\u001b[0;34m'nodes'\u001b[0m\u001b[0;34m]\u001b[0m\u001b[0;34m\u001b[0m\u001b[0;34m\u001b[0m\u001b[0m\n\u001b[0m",
      "\u001b[0;31mKeyError\u001b[0m: 'nodes'"
     ]
    }
   ],
   "source": [
    "file.variables['x']\n",
    "file.variables['y']"
   ]
  },
  {
   "cell_type": "code",
   "execution_count": 17,
   "metadata": {},
   "outputs": [],
   "source": []
  },
  {
   "cell_type": "code",
   "execution_count": null,
   "metadata": {},
   "outputs": [],
   "source": [
    "node = []\n",
    "data = []\n",
    "lat1,lat2 = 45,90\n",
    "lon1,lon2 =-200, -108\n",
    "for i in range(0,len(lon)):\n",
    "    for ii in range(0,len(lat)):\n",
    "        if (lat2>=lat[i]>lat1) and ((lon2)>=lons[ii]>(lon1)):\n",
    "            lat0,lon0 = lat[ii],lon[i]\n",
    "            node.append(ut.find_node_ak(file,lat0,lon0))\n",
    "            data.append(sea_ice[201,i,ii])"
   ]
  },
  {
   "cell_type": "code",
   "execution_count": null,
   "metadata": {},
   "outputs": [],
   "source": [
    "ut.find_node_ak(ncfile,geo.y,geo.x)"
   ]
  },
  {
   "cell_type": "markdown",
   "metadata": {},
   "source": [
    "Extract the variables of interest:"
   ]
  },
  {
   "cell_type": "code",
   "execution_count": 7,
   "metadata": {},
   "outputs": [],
   "source": [
    "#ice = grib.data_vars['siconc'].values[:]\n",
    "u = grib.data_vars['u10'].values[:]\n",
    "v = grib.data_vars['v10'].values[:]\n",
    "prmsl = grib.data_vars['msl'].values[:]\n",
    "lat = grib.coords['latitude'].values\n",
    "lon= grib.coords['longitude'].values\n",
    "time = grib.coords['time'].values[:]"
   ]
  },
  {
   "cell_type": "markdown",
   "metadata": {},
   "source": [
    "Create boundaries that cover the extent of your mesh (in our case the North Atlantic and the Caribean):"
   ]
  },
  {
   "cell_type": "code",
   "execution_count": 17,
   "metadata": {},
   "outputs": [],
   "source": [
    "lat1,lat2 = 44,88.75\n",
    "lon1,lon2 = 130, 275\n",
    "y = grib.coords['latitude'][:]\n",
    "x = grib.coords['longitude'][:]\n",
    "x = [data-360 if (data>=0) else data for data in x[:].values]\n",
    "xgrid, ygrid = np.meshgrid(x,y)"
   ]
  },
  {
   "cell_type": "code",
   "execution_count": 21,
   "metadata": {},
   "outputs": [
    {
     "name": "stderr",
     "output_type": "stream",
     "text": [
      "/Users/tmiesse/miniconda3/envs/general/lib/python3.7/site-packages/ipykernel_launcher.py:1: DeprecationWarning: parsing timezone aware datetimes is deprecated; this will raise an error in the future\n",
      "  \"\"\"Entry point for launching an IPython kernel.\n"
     ]
    }
   ],
   "source": [
    "\n",
    "ts = [(t - np.datetime64('1970-01-01T00:00:00Z')) / np.timedelta64(1, 's')  for t in time]\n",
    "ts2 = [datetime.datetime.utcfromtimestamp(t) for t in ts]"
   ]
  },
  {
   "cell_type": "markdown",
   "metadata": {},
   "source": [
    "Create a grid in using the format expected for a NWS = 6 in 3 columns (uwind, vwind, pressure):"
   ]
  },
  {
   "cell_type": "code",
   "execution_count": 11,
   "metadata": {},
   "outputs": [],
   "source": []
  },
  {
   "cell_type": "code",
   "execution_count": 21,
   "metadata": {},
   "outputs": [],
   "source": [
    "xgrid, ygrid = np.meshgrid(lon,lat)"
   ]
  },
  {
   "cell_type": "code",
   "execution_count": 2,
   "metadata": {},
   "outputs": [],
   "source": [
    "root2 = pl.Path('/Users/tmiesse/work/FHRL/eeslr/modelling/joaquin3')\n",
    "root = pl.Path('/Users/tmiesse/work/FHRL/eeslr/modelling/Jose')\n",
    "start = '20170910 00:00:00'\n",
    "freq = '0.5H'\n"
   ]
  },
  {
   "cell_type": "code",
   "execution_count": 23,
   "metadata": {},
   "outputs": [],
   "source": [
    "t,s = 20,1\n",
    "lat1,lat2 =37.148287,37.154156\n",
    "lon1,lon2 =-75.946235, -75.938045\n",
    "\n",
    "cmap = 'RdBu'\n",
    "wl=[]\n",
    "s = 0\n",
    "grid_space = 50\n",
    "ncfile = nc4.Dataset(root / 'cfs' / 'explicit_cd2' / 'swan_HS.63.nc')\n",
    "ncfile2 = nc4.Dataset(root / 'cfs' / 'implicit015' / 'swan_HS.63.nc')\n",
    "data = ncfile.variables['swan_HS'][:]\n",
    "data2 = ncfile2.variables['swan_HS'][:]\n",
    "ts2 = pd.date_range(start=start,periods=int(len(ncfile.variables['swan_HS'][:,30])),freq=freq)\n",
    "time = ncfile.variables['time'][:]\n",
    "node = ut.find_node_ak(ncfile,37.149152, -75.938702)\n",
    "#xg = np.linspace(lon1-0.5,lon2+0.5,grid_space)\n",
    "#yg = np.linspace(lat1-0.5,lat2+0.5,grid_space)\n",
    "#ncfile = nc4.Dataset(root / 'cfs' / 'implicit0045' / 'fort.74.nc')\n",
    "x,y = ncfile.variables['x'][:],ncfile.variables['y'][:]\n",
    "#xgrid,ygrid = np.meshgrid(xg,yg)\n",
    "limits = np.arange(-50,50,3)\n",
    "cmaps = mpl.cm.get_cmap(cmap)  \n",
    "#normalize = mpl.colors.Normalize(vmin=np.min(limits), vmax=np.max(limits))\n",
    "#colors = [cmaps(normalize(value)) for value in limits]\n",
    "gridvars = ncfile.variables      \n",
    "var_element = 'element'\n",
    "elems = gridvars[var_element][:,:]-1\n",
    "triang = tri.Triangulation(x,y, triangles=elems)\n",
    "for i in range(425,len(time[:445])):\n",
    "    fig,ax = plt.subplots(figsize=(10,10))\n",
    "    plt.rcParams[\"font.family\"] = \"Times New Roman\"\n",
    "    #prmsl= grib.data_vars['msl'].values[i,:,:]/100\n",
    "\n",
    "    m = Basemap(projection='cyl',llcrnrlat=lat1,urcrnrlat=lat2,llcrnrlon=lon1,\n",
    "                    urcrnrlon=lon2,resolution='h', epsg = 4269)\n",
    "    m.arcgisimage(service='World_Imagery',xpixels=720, verbose= False,ax=ax)#service='Canvas/World_Light_Gray_Base',\n",
    "    if data[i,:].mask.any():\n",
    "        point_mask_indices = np.where(data[i,:].mask)\n",
    "        tri_mask = np.any(np.in1d(elems, point_mask_indices).reshape(-1, 3), axis=1)\n",
    "        triang.set_mask(tri_mask)\n",
    "    #m.drawcoastlines()\n",
    "    data3 = (data[i,:])/np.max(data[i,node])*100\n",
    "    data4 = (data2[i,:])/np.max(data2[i,node])*100\n",
    "    m.drawparallels(np.arange(0, 100, 0.005), linewidth=0.01,labels=[1,0,0,0], color='#595959')\n",
    "    m.drawmeridians(np.arange(0, 360, 0.005), linewidth=0.01, labels=[0,0,0,1],zorder=3)\n",
    "    contour = plt.tricontourf(triang,(data3.data-data4.data),levels=limits,cmap=cmap,vmin=np.min(limits),vmax=np.max(limits),alpha=0.6,aspect='auto',extend='both')\n",
    "    #ax.quiver(xgrid,ygrid,ugrid,vgrid, pivot='mid', scale = 600, color='w')\n",
    "    #cax, _ = mpl.colorbar.make_axes(ax,shrink=0.75)\n",
    "    #cbar = mpl.colorbar.ColorbarBase(cax, cmap=cmap)\n",
    "    cbar = plt.colorbar(contour,ax=ax,shrink=0.5,boundaries=limits)\n",
    "    cbar.set_label(r'Relative Difference $H_{S}$ [%]',fontsize=12)\n",
    "    contour.set_clim(np.min(limits),np.max(limits))\n",
    "    file_number = '%05d'%i\n",
    "    wl.append('WL{}.png'.format(file_number))\n",
    "   \n",
    "    #cbar.mappable.set_clim(np.min(limits),np.max(limits))\n",
    "    #cbar.ax.tick_params(labelsize=12)\n",
    "    #fig.suptitle(f'Ice',x=0.435,y=0.725,fontsize=16)\n",
    "    ax.set_xlabel('\\nDate:{}'.format(ts2[i]),position=(0.5,-1.5),fontsize=14)\n",
    "    #plt.show()\n",
    "    plt.savefig('WL{}.png'.format(file_number),dpi=400,\n",
    "                        bbox_inches = 'tight', pad_inches = 0.1)\n",
    "    plt.close()\n",
    "images = []\n",
    "for ii in range(0,len(wl)):\n",
    "    frames = Image.open(wl[ii])\n",
    "    images.append(frames)\n",
    "images[0].save('jose_difference_hs.gif',\n",
    "   save_all=True,\n",
    "   append_images=images[1:],\n",
    "   delay=.1,\n",
    "   duration=200,\n",
    "   loop=0)\n",
    "for f in glob.glob('WL*'):\n",
    "    os.remove(f)   "
   ]
  },
  {
   "cell_type": "code",
   "execution_count": 22,
   "metadata": {},
   "outputs": [
    {
     "data": {
      "text/plain": [
       "masked_array(data=[--, --, --, ..., --, --, --],\n",
       "             mask=[ True,  True,  True, ...,  True,  True,  True],\n",
       "       fill_value=-99999.0)"
      ]
     },
     "execution_count": 22,
     "metadata": {},
     "output_type": "execute_result"
    }
   ],
   "source": [
    "#data3-\n",
    "data4"
   ]
  },
  {
   "cell_type": "code",
   "execution_count": 7,
   "metadata": {},
   "outputs": [],
   "source": [
    "root2 = pl.Path('/Users/tmiesse/work/FHRL/eeslr/modelling/joaquin3')\n",
    "root = pl.Path('/Users/tmiesse/work/FHRL/eeslr/modelling/Jose')\n",
    "#start = '20170910 00:00:00'\n",
    "start = '20150918 01:00:00'\n",
    "freq = '0.5H'\n",
    "t,s = 20,1\n",
    "lat1,lat2 =37.118562,37.123928\n",
    "lon1,lon2 =-75.966771, -75.957137\n",
    "\n",
    "cmap = 'jet'\n",
    "#key = keys[6]\n",
    "wl=[]\n",
    "s = 0\n",
    "grid_space = 50\n",
    "ncfile = nc4.Dataset(root2 / 'explicit_cd1' / 'swan_HS.63.nc')\n",
    "data = ncfile.variables['swan_HS'][:]\n",
    "ts2 = pd.date_range(start=start,periods=int(len(ncfile.variables['swan_HS'][:,30])),freq=freq)\n",
    "time = ncfile.variables['time'][:]\n",
    "#xg = np.linspace(lon1-0.5,lon2+0.5,grid_space)\n",
    "#yg = np.linspace(lat1-0.5,lat2+0.5,grid_space)\n",
    "#ncfile = nc4.Dataset(root / 'cfs' / 'implicit0045' / 'fort.74.nc')\n",
    "x,y = ncfile.variables['x'][:],ncfile.variables['y'][:]\n",
    "#xgrid,ygrid = np.meshgrid(xg,yg)\n",
    "limits = np.arange(0,1.5,0.1)\n",
    "cmaps = mpl.cm.get_cmap(cmap)  \n",
    "#normalize = mpl.colors.Normalize(vmin=np.min(limits), vmax=np.max(limits))\n",
    "#colors = [cmaps(normalize(value)) for value in limits]\n",
    "gridvars = ncfile.variables      \n",
    "var_element = 'element'\n",
    "elems = gridvars[var_element][:,:]-1\n",
    "triang = tri.Triangulation(x,y, triangles=elems)\n",
    "for i in range(410,len(time[:460])):\n",
    "    fig,ax = plt.subplots(figsize=(10,10))\n",
    "    plt.rcParams[\"font.family\"] = \"Times New Roman\"\n",
    "    #prmsl= grib.data_vars['msl'].values[i,:,:]/100\n",
    "\n",
    "    m = Basemap(projection='cyl',llcrnrlat=lat1,urcrnrlat=lat2,llcrnrlon=lon1,\n",
    "                    urcrnrlon=lon2,resolution='h', epsg = 4269)\n",
    "    m.arcgisimage(service='World_Imagery',xpixels=600, verbose= False,ax=ax)#service='Canvas/World_Light_Gray_Base',\n",
    "    if data[i,:].mask.any():\n",
    "        point_mask_indices = np.where(data[i,:].mask)\n",
    "        tri_mask = np.any(np.in1d(elems, point_mask_indices).reshape(-1, 3), axis=1)\n",
    "        triang.set_mask(tri_mask)\n",
    "    #m.drawcoastlines()\n",
    "    m.drawparallels(np.arange(0, 100, 0.005), linewidth=0.01,labels=[1,0,0,0], color='#595959')\n",
    "    m.drawmeridians(np.arange(0, 360, 0.005), linewidth=0.01, labels=[0,0,0,1],zorder=3)\n",
    "    contour = plt.tricontourf(triang,data[i,:],levels=limits,cmap=cmap,vmin=np.min(limits),vmax=np.max(limits),alpha=0.6,aspect='auto')\n",
    "    #ax.quiver(xgrid,ygrid,ugrid,vgrid, pivot='mid', scale = 600, color='w')\n",
    "    #cax, _ = mpl.colorbar.make_axes(ax,shrink=0.75)\n",
    "    #cbar = mpl.colorbar.ColorbarBase(cax, cmap=cmap)\n",
    "    cbar = plt.colorbar(contour,ax=ax,shrink=0.5,boundaries=limits)\n",
    "    cbar.set_label(r'$H_{S}$ [m]',fontsize=12)\n",
    "    contour.set_clim(np.min(limits),np.max(limits))\n",
    "    file_number = '%05d'%i\n",
    "    wl.append('WL{}.png'.format(file_number))\n",
    "   \n",
    "    #cbar.mappable.set_clim(np.min(limits),np.max(limits))\n",
    "    #cbar.ax.tick_params(labelsize=12)\n",
    "    #fig.suptitle(f'Ice',x=0.435,y=0.725,fontsize=16)\n",
    "    ax.set_xlabel('\\nDate:{}'.format(ts2[i]),position=(0.5,-1.5),fontsize=14)\n",
    "    #plt.show()\n",
    "    plt.savefig('WL{}.png'.format(file_number),dpi=400,\n",
    "                        bbox_inches = 'tight', pad_inches = 0.1)\n",
    "    plt.close()\n",
    "images = []\n",
    "for ii in range(0,len(wl)):\n",
    "    frames = Image.open(wl[ii])\n",
    "    images.append(frames)\n",
    "images[0].save('joaquin_hs_implicit.gif',\n",
    "   save_all=True,\n",
    "   append_images=images[1:],\n",
    "   delay=.1,\n",
    "   duration=200,\n",
    "   loop=0)\n",
    "for f in glob.glob('WL*'):\n",
    "    os.remove(f)   "
   ]
  },
  {
   "cell_type": "code",
   "execution_count": null,
   "metadata": {},
   "outputs": [],
   "source": []
  },
  {
   "cell_type": "code",
   "execution_count": null,
   "metadata": {},
   "outputs": [],
   "source": []
  },
  {
   "cell_type": "code",
   "execution_count": null,
   "metadata": {},
   "outputs": [],
   "source": []
  },
  {
   "cell_type": "code",
   "execution_count": null,
   "metadata": {},
   "outputs": [],
   "source": []
  },
  {
   "cell_type": "code",
   "execution_count": null,
   "metadata": {},
   "outputs": [],
   "source": []
  },
  {
   "cell_type": "code",
   "execution_count": null,
   "metadata": {},
   "outputs": [],
   "source": []
  },
  {
   "cell_type": "code",
   "execution_count": null,
   "metadata": {},
   "outputs": [],
   "source": []
  },
  {
   "cell_type": "code",
   "execution_count": null,
   "metadata": {},
   "outputs": [],
   "source": []
  },
  {
   "cell_type": "code",
   "execution_count": null,
   "metadata": {},
   "outputs": [],
   "source": []
  },
  {
   "cell_type": "code",
   "execution_count": null,
   "metadata": {},
   "outputs": [],
   "source": []
  },
  {
   "cell_type": "code",
   "execution_count": 10,
   "metadata": {},
   "outputs": [],
   "source": [
    "idx = np.where((lon1 >= lon)&(lon<=lon2))[0]\n",
    "idy = np.where((lat1 >= lat)&(lat<=lat2))[0]"
   ]
  },
  {
   "cell_type": "markdown",
   "metadata": {},
   "source": [
    "Start populating the grid with data from the .grib file:"
   ]
  },
  {
   "cell_type": "code",
   "execution_count": 34,
   "metadata": {},
   "outputs": [],
   "source": [
    "def force2owi(file,dx,dy,dt,ilon,ilat,start,end,swlat,swlon,header,grib,lat1,lat2,lon1,lon2):\n",
    "    if file == 'fort.222':\n",
    "        u = grib.data_vars['u10'].values[:]\n",
    "        v = grib.data_vars['v10'].values[:]\n",
    "    elif file == 'fort.221':\n",
    "        prmsl = grib.data_vars['msl'].values[:]\n",
    "    elif file == 'fort.225':\n",
    "        ice = grib.data_vars['siconc'].values[:]\n",
    "    else:\n",
    "        raise TypeError('not correct forcing format')\n",
    "    \n",
    "    \n",
    "    lat = grib.coords['latitude'].values\n",
    "    lon= grib.coords['longitude'].values\n",
    "    idx = np.where((lon1 >= lon)&(lon<=lon2))[0]\n",
    "    idy = np.where((lat1 >= lat)&(lat<=lat2))[0]\n",
    "    with open(file,'w') as fin:\n",
    "        fin.write(header)\n",
    "        for t in range(len(dt[:])):\n",
    "            param ='iLat= {}iLong= {}DX={:.4f}DY={:.4f}SWLat={:.4f}SWLon={:.4f}DT={} \\n'.format(ilat,ilon,dx,dy,swlat,swlon,str(dt[t].strftime('%Y%m%d%H%M')))\n",
    "            fin.write(param)\n",
    "            i = 0\n",
    "            data = []\n",
    "            d1,d2 = [],[] \n",
    "            for y in idy[:]:\n",
    "                for x in idx[:]:\n",
    "                    if file == 'fort.222':\n",
    "                        windx = u[t,y,x]\n",
    "                        windy = v[t,y,x]\n",
    "                        d1.append(' {:{width}.{prec}f}'.format(windx,width=9,prec=4))\n",
    "                        d2.append(' {:{width}.{prec}f}'.format(windy,width=9,prec=4))\n",
    "                    elif file == 'fort.221':\n",
    "                        press = prmsl[t,y,x]/100\n",
    "                        data.append(' {:{width}.{prec}f}'.format(press,width=6,prec=4))\n",
    "                    #elif file == 'fort.225':\n",
    "                        #sea = ice[t,y,x]\n",
    "                        #if np.isnan(sea):\n",
    "                        #    sea = -1.0\n",
    "                        #else:\n",
    "                        #    sea =sea * 100\n",
    "                        #data.append(' {:{width}.{prec}f}'.format(sea,width=9,prec=4))\n",
    "            i = 0\n",
    "            if file == 'fort.222':\n",
    "                for d in range(len(d1)):\n",
    "                    if (i == 7) :\n",
    "                        fin.write(d1[d]+'\\n')\n",
    "                        i=0\n",
    "                    elif (d+1>=len(d1)):\n",
    "                        fin.write(d2[d]+'\\n')\n",
    "                        i = 0\n",
    "                        for d in range(len(d2)):\n",
    "                            if (i == 7) :\n",
    "                                fin.write(d2[d]+'\\n')\n",
    "                                i=0\n",
    "                            elif (d+1>=len(d2)):\n",
    "                                fin.write(d2[d]+'\\n')\n",
    "                            else:\n",
    "                                fin.write(d2[d])\n",
    "                                i +=1\n",
    "                    else:\n",
    "                        fin.write(d1[d])\n",
    "                        i +=1\n",
    "            else:\n",
    "                for d in range(len(data)):\n",
    "                    if (i == 7) :\n",
    "                        fin.write(data[d]+'\\n')\n",
    "                        i=0\n",
    "                    elif (d+1>=len(data)):\n",
    "                        fin.write(data[d]+'\\n')\n",
    "                    else:\n",
    "                        fin.write(data[d])\n",
    "                        i +=1\n",
    "    return print('generated owi formatted forcings')"
   ]
  },
  {
   "cell_type": "code",
   "execution_count": 35,
   "metadata": {},
   "outputs": [
    {
     "name": "stderr",
     "output_type": "stream",
     "text": [
      "/Users/tmiesse/miniconda3/envs/general/lib/python3.7/site-packages/ipykernel_launcher.py:1: DeprecationWarning: parsing timezone aware datetimes is deprecated; this will raise an error in the future\n",
      "  \"\"\"Entry point for launching an IPython kernel.\n"
     ]
    }
   ],
   "source": [
    "ts = [(t - np.datetime64('1970-01-01T00:00:00Z')) / np.timedelta64(1, 's')  for t in time]\n",
    "ts2 = [datetime.datetime.utcfromtimestamp(t) for t in ts]\n",
    "dx = lon[1]-lon[0]\n",
    "dy = lat[0]-lat[1]\n",
    "ilon = len(idx)\n",
    "ilat = len(idy)\n",
    "start = ts2[0]\n",
    "end = ts2[-1]\n",
    "swlat = lat1\n",
    "swlon = -230.0\n",
    "header = 'FHRL tmiesse wind Format                               {}     {}\\n'.format(str(start.strftime('%Y%m%d%H')),str(end.strftime('%Y%m%d%H')))#     {}'\n",
    "dt = ts2\n",
    "file = 'fort.222'"
   ]
  },
  {
   "cell_type": "code",
   "execution_count": 37,
   "metadata": {},
   "outputs": [
    {
     "name": "stdout",
     "output_type": "stream",
     "text": [
      "generated owi formatted forcings\n"
     ]
    }
   ],
   "source": [
    "force2owi(file,dx,dy,dt[:],ilon,ilat,start,end,swlat,swlon,header,grib,lat1,lat2,lon1,lon2)\n"
   ]
  },
  {
   "cell_type": "code",
   "execution_count": 39,
   "metadata": {},
   "outputs": [],
   "source": []
  },
  {
   "cell_type": "code",
   "execution_count": 40,
   "metadata": {},
   "outputs": [
    {
     "name": "stdout",
     "output_type": "stream",
     "text": [
      "bagel 6 donut 3.145900"
     ]
    }
   ],
   "source": [
    "fprintf(sys.stdout, \"bagel %d donut %f\", 6, 3.1459)"
   ]
  },
  {
   "cell_type": "code",
   "execution_count": null,
   "metadata": {},
   "outputs": [],
   "source": []
  },
  {
   "cell_type": "raw",
   "metadata": {},
   "source": [
    "for t in range(0,temp):\n",
    "    for i in range(0,y):\n",
    "        for ii in range(0,x):\n",
    "            if (lat2>=lat[i]>lat1) and ((lon2+360)>=lon[ii]>(lon1)):\n",
    "                #u2.append(np.round(u[t,i,ii],3))\n",
    "                #v2.append(np.round(v[t,i,ii],3))\n",
    "                #p2.append(prmsl[t,i,ii])\n",
    "                ice2.append(ice[t,i,ii])\n",
    "                datay.append(i)\n",
    "                datax.append(ii)\n",
    "    print('time = '+str(t))\n"
   ]
  },
  {
   "cell_type": "raw",
   "metadata": {},
   "source": [
    "#df = pd.DataFrame({'u':np.round(u2,2),'v':np.round(v2,2),'p':np.round(p2,2)})\n",
    "df = pd.DataFrame({'ice':np.round(ice2,2)})\n",
    "df.to_csv('/Users/tmiesse/work/FHRL/arctic/sea_ice/adcirc/fort.225', sep='\\t',index=False,header = False)  "
   ]
  },
  {
   "cell_type": "markdown",
   "metadata": {},
   "source": [
    "Repeat steps 1, 2, and 3 for the second part of the storm\n",
    "\n",
    "Make sure that when you repeat the process for the other part of the storm (07/01/2014 to 07/09/2014) you change the name of the output file.\n",
    "\n",
    "Use a text editor (Sublime for instance) to copy the 'arthur_2.22' file at the end of the 'arthur_1.22' file. This complete file refers to the whole storm."
   ]
  },
  {
   "cell_type": "markdown",
   "metadata": {},
   "source": [
    "Check the extent of your grid:"
   ]
  },
  {
   "cell_type": "code",
   "execution_count": 10,
   "metadata": {},
   "outputs": [
    {
     "data": {
      "text/plain": [
       "(174, 1440)"
      ]
     },
     "execution_count": 10,
     "metadata": {},
     "output_type": "execute_result"
    }
   ],
   "source": [
    "temp = lat[(lat2>=lat) & (lat>lat1)]\n",
    "temp2 = lon[(lon2+360>=lon) & (lon>lon1)]\n",
    "len(temp),len(temp2)"
   ]
  },
  {
   "cell_type": "markdown",
   "metadata": {},
   "source": [
    "# Updating the fort.15 file:"
   ]
  },
  {
   "cell_type": "markdown",
   "metadata": {},
   "source": [
    "Change the line YYYY MM DD HH24 to:\n",
    "\n",
    "212 168 60.0 -100.0 0.25 0.25 21600 3600 ! YYYY MM DD HH24 StormNumber BLAdj \n",
    "\n",
    "where, 212 is the number of values in Y, 168 is the number of values in X, 60 is the maximum Y, -100 is the minimum X, 0.25 are the X and Y increments, and 21600 is the time interval in seconds (6hours)."
   ]
  }
 ],
 "metadata": {
  "kernelspec": {
   "display_name": "Python [conda env:general]",
   "language": "python",
   "name": "conda-env-general-py"
  },
  "language_info": {
   "codemirror_mode": {
    "name": "ipython",
    "version": 3
   },
   "file_extension": ".py",
   "mimetype": "text/x-python",
   "name": "python",
   "nbconvert_exporter": "python",
   "pygments_lexer": "ipython3",
   "version": "3.7.7"
  }
 },
 "nbformat": 4,
 "nbformat_minor": 4
}
